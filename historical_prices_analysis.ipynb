{
 "cells": [
  {
   "cell_type": "code",
   "execution_count": 1,
   "metadata": {},
   "outputs": [],
   "source": [
    "# Imports\n",
    "import pandas as pd\n",
    "import numpy as np\n",
    "from datetime import datetime, timedelta\n",
    "import yfinance as yf\n",
    "from fredapi import Fred\n",
    "from scipy.optimize import minimize\n",
    "import plotly.graph_objs as go\n",
    "import matplotlib.pyplot as plt\n",
    "from matplotlib.dates import DateFormatter"
   ]
  },
  {
   "cell_type": "code",
   "execution_count": 2,
   "metadata": {},
   "outputs": [],
   "source": [
    "# Selecting tickers\n",
    "tickers = ['ORCL',     # Oracle\n",
    "           'IBM',      # IBM\n",
    "           'KO',       # Coca-Cola\n",
    "           'NKE',      # Nike\n",
    "           'PFE',      # Pfizer\n",
    "           'UNH',      # UnitedHealth\n",
    "           'AMZN',     # Amazon\n",
    "           'WMT',      # Walmart\n",
    "           'JPM',      # JP Morgan\n",
    "           'GS',       # Goldman Sachs\n",
    "           'BTC-USD',  # Bitcoin\n",
    "           'ETH-USD',  # Ethereum\n",
    "           'BNB-USD',  # Binance Coin\n",
    "           'USDT-USD'  # Tether USDt\n",
    "           ]"
   ]
  },
  {
   "cell_type": "code",
   "execution_count": 3,
   "metadata": {},
   "outputs": [
    {
     "data": {
      "text/plain": [
       "'2020-01-28'"
      ]
     },
     "execution_count": 3,
     "metadata": {},
     "output_type": "execute_result"
    }
   ],
   "source": [
    "# Defining start date so that 70% of the data correspond to 3 years, approximately\n",
    "today = datetime.today()\n",
    "working_days = int((3 / 0.7) * 252)\n",
    "initial_day = pd.date_range(end=today, periods=working_days, freq='B').min().date()\n",
    "str(initial_day)"
   ]
  },
  {
   "cell_type": "code",
   "execution_count": 4,
   "metadata": {},
   "outputs": [
    {
     "data": {
      "text/html": [
       "<div>\n",
       "<style scoped>\n",
       "    .dataframe tbody tr th:only-of-type {\n",
       "        vertical-align: middle;\n",
       "    }\n",
       "\n",
       "    .dataframe tbody tr th {\n",
       "        vertical-align: top;\n",
       "    }\n",
       "\n",
       "    .dataframe thead th {\n",
       "        text-align: right;\n",
       "    }\n",
       "</style>\n",
       "<table border=\"1\" class=\"dataframe\">\n",
       "  <thead>\n",
       "    <tr style=\"text-align: right;\">\n",
       "      <th></th>\n",
       "      <th>ORCL</th>\n",
       "      <th>IBM</th>\n",
       "      <th>KO</th>\n",
       "      <th>NKE</th>\n",
       "      <th>PFE</th>\n",
       "      <th>UNH</th>\n",
       "      <th>AMZN</th>\n",
       "      <th>WMT</th>\n",
       "      <th>JPM</th>\n",
       "      <th>GS</th>\n",
       "      <th>BTC-USD</th>\n",
       "      <th>ETH-USD</th>\n",
       "      <th>BNB-USD</th>\n",
       "      <th>USDT-USD</th>\n",
       "    </tr>\n",
       "    <tr>\n",
       "      <th>Date</th>\n",
       "      <th></th>\n",
       "      <th></th>\n",
       "      <th></th>\n",
       "      <th></th>\n",
       "      <th></th>\n",
       "      <th></th>\n",
       "      <th></th>\n",
       "      <th></th>\n",
       "      <th></th>\n",
       "      <th></th>\n",
       "      <th></th>\n",
       "      <th></th>\n",
       "      <th></th>\n",
       "      <th></th>\n",
       "    </tr>\n",
       "  </thead>\n",
       "  <tbody>\n",
       "    <tr>\n",
       "      <th>2020-01-28</th>\n",
       "      <td>50.123829</td>\n",
       "      <td>108.559143</td>\n",
       "      <td>49.916626</td>\n",
       "      <td>96.080788</td>\n",
       "      <td>30.538336</td>\n",
       "      <td>268.714233</td>\n",
       "      <td>92.662498</td>\n",
       "      <td>36.367275</td>\n",
       "      <td>119.148926</td>\n",
       "      <td>218.290237</td>\n",
       "      <td>9358.589844</td>\n",
       "      <td>176.370316</td>\n",
       "      <td>18.115135</td>\n",
       "      <td>1.000760</td>\n",
       "    </tr>\n",
       "    <tr>\n",
       "      <th>2020-01-29</th>\n",
       "      <td>49.880047</td>\n",
       "      <td>107.112228</td>\n",
       "      <td>49.916626</td>\n",
       "      <td>95.535378</td>\n",
       "      <td>30.089952</td>\n",
       "      <td>265.922485</td>\n",
       "      <td>92.900002</td>\n",
       "      <td>36.145836</td>\n",
       "      <td>118.971687</td>\n",
       "      <td>216.076523</td>\n",
       "      <td>9316.629883</td>\n",
       "      <td>175.050339</td>\n",
       "      <td>17.912777</td>\n",
       "      <td>1.002296</td>\n",
       "    </tr>\n",
       "    <tr>\n",
       "      <th>2020-01-30</th>\n",
       "      <td>49.983192</td>\n",
       "      <td>106.396530</td>\n",
       "      <td>51.536449</td>\n",
       "      <td>93.956535</td>\n",
       "      <td>29.984797</td>\n",
       "      <td>264.117706</td>\n",
       "      <td>93.533997</td>\n",
       "      <td>36.361038</td>\n",
       "      <td>120.443001</td>\n",
       "      <td>219.685043</td>\n",
       "      <td>9508.993164</td>\n",
       "      <td>184.690475</td>\n",
       "      <td>18.590408</td>\n",
       "      <td>1.001452</td>\n",
       "    </tr>\n",
       "    <tr>\n",
       "      <th>2020-01-31</th>\n",
       "      <td>49.176849</td>\n",
       "      <td>111.810875</td>\n",
       "      <td>51.133678</td>\n",
       "      <td>92.148003</td>\n",
       "      <td>30.122301</td>\n",
       "      <td>256.099579</td>\n",
       "      <td>100.435997</td>\n",
       "      <td>35.709171</td>\n",
       "      <td>117.314285</td>\n",
       "      <td>213.943848</td>\n",
       "      <td>9350.529297</td>\n",
       "      <td>180.160172</td>\n",
       "      <td>18.210979</td>\n",
       "      <td>1.000648</td>\n",
       "    </tr>\n",
       "    <tr>\n",
       "      <th>2020-02-03</th>\n",
       "      <td>49.776909</td>\n",
       "      <td>113.786804</td>\n",
       "      <td>51.291283</td>\n",
       "      <td>94.989944</td>\n",
       "      <td>30.340694</td>\n",
       "      <td>257.575409</td>\n",
       "      <td>100.209999</td>\n",
       "      <td>35.640556</td>\n",
       "      <td>118.209442</td>\n",
       "      <td>215.077682</td>\n",
       "      <td>9293.521484</td>\n",
       "      <td>189.865067</td>\n",
       "      <td>18.462755</td>\n",
       "      <td>0.998913</td>\n",
       "    </tr>\n",
       "  </tbody>\n",
       "</table>\n",
       "</div>"
      ],
      "text/plain": [
       "                 ORCL         IBM         KO        NKE        PFE  \\\n",
       "Date                                                                 \n",
       "2020-01-28  50.123829  108.559143  49.916626  96.080788  30.538336   \n",
       "2020-01-29  49.880047  107.112228  49.916626  95.535378  30.089952   \n",
       "2020-01-30  49.983192  106.396530  51.536449  93.956535  29.984797   \n",
       "2020-01-31  49.176849  111.810875  51.133678  92.148003  30.122301   \n",
       "2020-02-03  49.776909  113.786804  51.291283  94.989944  30.340694   \n",
       "\n",
       "                   UNH        AMZN        WMT         JPM          GS  \\\n",
       "Date                                                                    \n",
       "2020-01-28  268.714233   92.662498  36.367275  119.148926  218.290237   \n",
       "2020-01-29  265.922485   92.900002  36.145836  118.971687  216.076523   \n",
       "2020-01-30  264.117706   93.533997  36.361038  120.443001  219.685043   \n",
       "2020-01-31  256.099579  100.435997  35.709171  117.314285  213.943848   \n",
       "2020-02-03  257.575409  100.209999  35.640556  118.209442  215.077682   \n",
       "\n",
       "                BTC-USD     ETH-USD    BNB-USD  USDT-USD  \n",
       "Date                                                      \n",
       "2020-01-28  9358.589844  176.370316  18.115135  1.000760  \n",
       "2020-01-29  9316.629883  175.050339  17.912777  1.002296  \n",
       "2020-01-30  9508.993164  184.690475  18.590408  1.001452  \n",
       "2020-01-31  9350.529297  180.160172  18.210979  1.000648  \n",
       "2020-02-03  9293.521484  189.865067  18.462755  0.998913  "
      ]
     },
     "execution_count": 4,
     "metadata": {},
     "output_type": "execute_result"
    }
   ],
   "source": [
    "# Extracting adjusted close prices\n",
    "df = pd.DataFrame()\n",
    "for i in tickers:\n",
    "    df[i] = yf.download(i, start = str(initial_day),\n",
    "                        end = '2024-01-01',\n",
    "                        progress = False)['Adj Close']\n",
    "\n",
    "df.head()"
   ]
  },
  {
   "cell_type": "code",
   "execution_count": 5,
   "metadata": {},
   "outputs": [
    {
     "data": {
      "text/plain": [
       "ORCL        0\n",
       "IBM         0\n",
       "KO          0\n",
       "NKE         0\n",
       "PFE         0\n",
       "UNH         0\n",
       "AMZN        0\n",
       "WMT         0\n",
       "JPM         0\n",
       "GS          0\n",
       "BTC-USD     0\n",
       "ETH-USD     0\n",
       "BNB-USD     0\n",
       "USDT-USD    0\n",
       "dtype: int64"
      ]
     },
     "execution_count": 5,
     "metadata": {},
     "output_type": "execute_result"
    }
   ],
   "source": [
    "# Checking if there is missing values\n",
    "df.isna().sum()"
   ]
  },
  {
   "cell_type": "code",
   "execution_count": 6,
   "metadata": {},
   "outputs": [
    {
     "data": {
      "text/plain": [
       "(989, 14)"
      ]
     },
     "execution_count": 6,
     "metadata": {},
     "output_type": "execute_result"
    }
   ],
   "source": [
    "# Checking the DataFrame shape\n",
    "df.shape"
   ]
  },
  {
   "cell_type": "code",
   "execution_count": 7,
   "metadata": {},
   "outputs": [],
   "source": [
    "# Separating the data between sample and out of sample \n",
    "sample = df.iloc[:int(df.shape[0] * 0.7),:]\n",
    "out_sample = df.iloc[int(df.shape[0] * 0.7):,:]"
   ]
  },
  {
   "cell_type": "code",
   "execution_count": 8,
   "metadata": {},
   "outputs": [
    {
     "name": "stdout",
     "output_type": "stream",
     "text": [
      "692\n",
      "297\n"
     ]
    }
   ],
   "source": [
    "# Identifying the quantity of lines of each part\n",
    "print(sample.shape[0])\n",
    "print(out_sample.shape[0])"
   ]
  },
  {
   "cell_type": "code",
   "execution_count": 9,
   "metadata": {},
   "outputs": [
    {
     "data": {
      "text/html": [
       "<div>\n",
       "<style scoped>\n",
       "    .dataframe tbody tr th:only-of-type {\n",
       "        vertical-align: middle;\n",
       "    }\n",
       "\n",
       "    .dataframe tbody tr th {\n",
       "        vertical-align: top;\n",
       "    }\n",
       "\n",
       "    .dataframe thead th {\n",
       "        text-align: right;\n",
       "    }\n",
       "</style>\n",
       "<table border=\"1\" class=\"dataframe\">\n",
       "  <thead>\n",
       "    <tr style=\"text-align: right;\">\n",
       "      <th></th>\n",
       "      <th>ORCL</th>\n",
       "      <th>IBM</th>\n",
       "      <th>KO</th>\n",
       "      <th>NKE</th>\n",
       "      <th>PFE</th>\n",
       "      <th>UNH</th>\n",
       "      <th>AMZN</th>\n",
       "      <th>WMT</th>\n",
       "      <th>JPM</th>\n",
       "      <th>GS</th>\n",
       "      <th>BTC-USD</th>\n",
       "      <th>ETH-USD</th>\n",
       "      <th>BNB-USD</th>\n",
       "      <th>USDT-USD</th>\n",
       "    </tr>\n",
       "    <tr>\n",
       "      <th>Date</th>\n",
       "      <th></th>\n",
       "      <th></th>\n",
       "      <th></th>\n",
       "      <th></th>\n",
       "      <th></th>\n",
       "      <th></th>\n",
       "      <th></th>\n",
       "      <th></th>\n",
       "      <th></th>\n",
       "      <th></th>\n",
       "      <th></th>\n",
       "      <th></th>\n",
       "      <th></th>\n",
       "      <th></th>\n",
       "    </tr>\n",
       "  </thead>\n",
       "  <tbody>\n",
       "    <tr>\n",
       "      <th>2020-01-29</th>\n",
       "      <td>-0.004875</td>\n",
       "      <td>-0.013418</td>\n",
       "      <td>0.000000</td>\n",
       "      <td>-0.005693</td>\n",
       "      <td>-0.014791</td>\n",
       "      <td>-0.010444</td>\n",
       "      <td>0.002560</td>\n",
       "      <td>-0.006108</td>\n",
       "      <td>-0.001489</td>\n",
       "      <td>-0.010193</td>\n",
       "      <td>-0.004494</td>\n",
       "      <td>-0.007512</td>\n",
       "      <td>-0.011234</td>\n",
       "      <td>0.001534</td>\n",
       "    </tr>\n",
       "    <tr>\n",
       "      <th>2020-01-30</th>\n",
       "      <td>0.002066</td>\n",
       "      <td>-0.006704</td>\n",
       "      <td>0.031935</td>\n",
       "      <td>-0.016664</td>\n",
       "      <td>-0.003501</td>\n",
       "      <td>-0.006810</td>\n",
       "      <td>0.006801</td>\n",
       "      <td>0.005936</td>\n",
       "      <td>0.012291</td>\n",
       "      <td>0.016562</td>\n",
       "      <td>0.020437</td>\n",
       "      <td>0.053608</td>\n",
       "      <td>0.037132</td>\n",
       "      <td>-0.000842</td>\n",
       "    </tr>\n",
       "    <tr>\n",
       "      <th>2020-01-31</th>\n",
       "      <td>-0.016264</td>\n",
       "      <td>0.049636</td>\n",
       "      <td>-0.007846</td>\n",
       "      <td>-0.019436</td>\n",
       "      <td>0.004575</td>\n",
       "      <td>-0.030829</td>\n",
       "      <td>0.071196</td>\n",
       "      <td>-0.018090</td>\n",
       "      <td>-0.026320</td>\n",
       "      <td>-0.026481</td>\n",
       "      <td>-0.016805</td>\n",
       "      <td>-0.024835</td>\n",
       "      <td>-0.020621</td>\n",
       "      <td>-0.000803</td>\n",
       "    </tr>\n",
       "    <tr>\n",
       "      <th>2020-02-03</th>\n",
       "      <td>0.012128</td>\n",
       "      <td>0.017518</td>\n",
       "      <td>0.003077</td>\n",
       "      <td>0.030375</td>\n",
       "      <td>0.007224</td>\n",
       "      <td>0.005746</td>\n",
       "      <td>-0.002253</td>\n",
       "      <td>-0.001923</td>\n",
       "      <td>0.007601</td>\n",
       "      <td>0.005286</td>\n",
       "      <td>-0.006115</td>\n",
       "      <td>0.052467</td>\n",
       "      <td>0.013731</td>\n",
       "      <td>-0.001735</td>\n",
       "    </tr>\n",
       "    <tr>\n",
       "      <th>2020-02-04</th>\n",
       "      <td>0.017736</td>\n",
       "      <td>0.019230</td>\n",
       "      <td>0.004429</td>\n",
       "      <td>0.021032</td>\n",
       "      <td>0.004787</td>\n",
       "      <td>0.024584</td>\n",
       "      <td>0.022434</td>\n",
       "      <td>0.008713</td>\n",
       "      <td>0.014293</td>\n",
       "      <td>0.012184</td>\n",
       "      <td>-0.012185</td>\n",
       "      <td>-0.003242</td>\n",
       "      <td>-0.015578</td>\n",
       "      <td>0.002831</td>\n",
       "    </tr>\n",
       "  </tbody>\n",
       "</table>\n",
       "</div>"
      ],
      "text/plain": [
       "                ORCL       IBM        KO       NKE       PFE       UNH  \\\n",
       "Date                                                                     \n",
       "2020-01-29 -0.004875 -0.013418  0.000000 -0.005693 -0.014791 -0.010444   \n",
       "2020-01-30  0.002066 -0.006704  0.031935 -0.016664 -0.003501 -0.006810   \n",
       "2020-01-31 -0.016264  0.049636 -0.007846 -0.019436  0.004575 -0.030829   \n",
       "2020-02-03  0.012128  0.017518  0.003077  0.030375  0.007224  0.005746   \n",
       "2020-02-04  0.017736  0.019230  0.004429  0.021032  0.004787  0.024584   \n",
       "\n",
       "                AMZN       WMT       JPM        GS   BTC-USD   ETH-USD  \\\n",
       "Date                                                                     \n",
       "2020-01-29  0.002560 -0.006108 -0.001489 -0.010193 -0.004494 -0.007512   \n",
       "2020-01-30  0.006801  0.005936  0.012291  0.016562  0.020437  0.053608   \n",
       "2020-01-31  0.071196 -0.018090 -0.026320 -0.026481 -0.016805 -0.024835   \n",
       "2020-02-03 -0.002253 -0.001923  0.007601  0.005286 -0.006115  0.052467   \n",
       "2020-02-04  0.022434  0.008713  0.014293  0.012184 -0.012185 -0.003242   \n",
       "\n",
       "             BNB-USD  USDT-USD  \n",
       "Date                            \n",
       "2020-01-29 -0.011234  0.001534  \n",
       "2020-01-30  0.037132 -0.000842  \n",
       "2020-01-31 -0.020621 -0.000803  \n",
       "2020-02-03  0.013731 -0.001735  \n",
       "2020-02-04 -0.015578  0.002831  "
      ]
     },
     "execution_count": 9,
     "metadata": {},
     "output_type": "execute_result"
    }
   ],
   "source": [
    "# Calculating the daily log normal returns for each ticker\n",
    "daily_log_returns = np.log(sample / sample.shift(1))\n",
    "daily_log_returns = daily_log_returns.dropna()\n",
    "daily_log_returns.head()"
   ]
  },
  {
   "cell_type": "code",
   "execution_count": 10,
   "metadata": {},
   "outputs": [
    {
     "data": {
      "text/html": [
       "<div>\n",
       "<style scoped>\n",
       "    .dataframe tbody tr th:only-of-type {\n",
       "        vertical-align: middle;\n",
       "    }\n",
       "\n",
       "    .dataframe tbody tr th {\n",
       "        vertical-align: top;\n",
       "    }\n",
       "\n",
       "    .dataframe thead th {\n",
       "        text-align: right;\n",
       "    }\n",
       "</style>\n",
       "<table border=\"1\" class=\"dataframe\">\n",
       "  <thead>\n",
       "    <tr style=\"text-align: right;\">\n",
       "      <th></th>\n",
       "      <th>ORCL</th>\n",
       "      <th>IBM</th>\n",
       "      <th>KO</th>\n",
       "      <th>NKE</th>\n",
       "      <th>PFE</th>\n",
       "      <th>UNH</th>\n",
       "      <th>AMZN</th>\n",
       "      <th>WMT</th>\n",
       "      <th>JPM</th>\n",
       "      <th>GS</th>\n",
       "      <th>BTC-USD</th>\n",
       "      <th>ETH-USD</th>\n",
       "      <th>BNB-USD</th>\n",
       "      <th>USDT-USD</th>\n",
       "    </tr>\n",
       "  </thead>\n",
       "  <tbody>\n",
       "    <tr>\n",
       "      <th>ORCL</th>\n",
       "      <td>0.117584</td>\n",
       "      <td>0.055605</td>\n",
       "      <td>0.041915</td>\n",
       "      <td>0.058547</td>\n",
       "      <td>0.043853</td>\n",
       "      <td>0.057091</td>\n",
       "      <td>0.056851</td>\n",
       "      <td>0.038640</td>\n",
       "      <td>0.070440</td>\n",
       "      <td>0.070405</td>\n",
       "      <td>0.065519</td>\n",
       "      <td>0.090744</td>\n",
       "      <td>0.075793</td>\n",
       "      <td>-0.006855</td>\n",
       "    </tr>\n",
       "    <tr>\n",
       "      <th>IBM</th>\n",
       "      <td>0.055605</td>\n",
       "      <td>0.098103</td>\n",
       "      <td>0.050842</td>\n",
       "      <td>0.054333</td>\n",
       "      <td>0.042741</td>\n",
       "      <td>0.056600</td>\n",
       "      <td>0.034818</td>\n",
       "      <td>0.027256</td>\n",
       "      <td>0.077947</td>\n",
       "      <td>0.072889</td>\n",
       "      <td>0.052811</td>\n",
       "      <td>0.074419</td>\n",
       "      <td>0.071649</td>\n",
       "      <td>-0.004803</td>\n",
       "    </tr>\n",
       "    <tr>\n",
       "      <th>KO</th>\n",
       "      <td>0.041915</td>\n",
       "      <td>0.050842</td>\n",
       "      <td>0.064659</td>\n",
       "      <td>0.046506</td>\n",
       "      <td>0.036846</td>\n",
       "      <td>0.050644</td>\n",
       "      <td>0.027643</td>\n",
       "      <td>0.027698</td>\n",
       "      <td>0.061713</td>\n",
       "      <td>0.056890</td>\n",
       "      <td>0.038595</td>\n",
       "      <td>0.055310</td>\n",
       "      <td>0.052803</td>\n",
       "      <td>-0.003912</td>\n",
       "    </tr>\n",
       "    <tr>\n",
       "      <th>NKE</th>\n",
       "      <td>0.058547</td>\n",
       "      <td>0.054333</td>\n",
       "      <td>0.046506</td>\n",
       "      <td>0.139843</td>\n",
       "      <td>0.034529</td>\n",
       "      <td>0.064152</td>\n",
       "      <td>0.069343</td>\n",
       "      <td>0.029851</td>\n",
       "      <td>0.080089</td>\n",
       "      <td>0.083400</td>\n",
       "      <td>0.084463</td>\n",
       "      <td>0.111483</td>\n",
       "      <td>0.105728</td>\n",
       "      <td>-0.002307</td>\n",
       "    </tr>\n",
       "    <tr>\n",
       "      <th>PFE</th>\n",
       "      <td>0.043853</td>\n",
       "      <td>0.042741</td>\n",
       "      <td>0.036846</td>\n",
       "      <td>0.034529</td>\n",
       "      <td>0.091679</td>\n",
       "      <td>0.048972</td>\n",
       "      <td>0.026229</td>\n",
       "      <td>0.025271</td>\n",
       "      <td>0.047942</td>\n",
       "      <td>0.042081</td>\n",
       "      <td>0.026965</td>\n",
       "      <td>0.041780</td>\n",
       "      <td>0.048092</td>\n",
       "      <td>-0.004225</td>\n",
       "    </tr>\n",
       "    <tr>\n",
       "      <th>UNH</th>\n",
       "      <td>0.057091</td>\n",
       "      <td>0.056600</td>\n",
       "      <td>0.050644</td>\n",
       "      <td>0.064152</td>\n",
       "      <td>0.048972</td>\n",
       "      <td>0.114812</td>\n",
       "      <td>0.045657</td>\n",
       "      <td>0.034310</td>\n",
       "      <td>0.075461</td>\n",
       "      <td>0.076783</td>\n",
       "      <td>0.058824</td>\n",
       "      <td>0.085276</td>\n",
       "      <td>0.073245</td>\n",
       "      <td>-0.004416</td>\n",
       "    </tr>\n",
       "    <tr>\n",
       "      <th>AMZN</th>\n",
       "      <td>0.056851</td>\n",
       "      <td>0.034818</td>\n",
       "      <td>0.027643</td>\n",
       "      <td>0.069343</td>\n",
       "      <td>0.026229</td>\n",
       "      <td>0.045657</td>\n",
       "      <td>0.149366</td>\n",
       "      <td>0.033882</td>\n",
       "      <td>0.045005</td>\n",
       "      <td>0.057860</td>\n",
       "      <td>0.097676</td>\n",
       "      <td>0.123404</td>\n",
       "      <td>0.112404</td>\n",
       "      <td>-0.003341</td>\n",
       "    </tr>\n",
       "    <tr>\n",
       "      <th>WMT</th>\n",
       "      <td>0.038640</td>\n",
       "      <td>0.027256</td>\n",
       "      <td>0.027698</td>\n",
       "      <td>0.029851</td>\n",
       "      <td>0.025271</td>\n",
       "      <td>0.034310</td>\n",
       "      <td>0.033882</td>\n",
       "      <td>0.068709</td>\n",
       "      <td>0.027718</td>\n",
       "      <td>0.030163</td>\n",
       "      <td>0.040426</td>\n",
       "      <td>0.062466</td>\n",
       "      <td>0.047759</td>\n",
       "      <td>-0.004963</td>\n",
       "    </tr>\n",
       "    <tr>\n",
       "      <th>JPM</th>\n",
       "      <td>0.070440</td>\n",
       "      <td>0.077947</td>\n",
       "      <td>0.061713</td>\n",
       "      <td>0.080089</td>\n",
       "      <td>0.047942</td>\n",
       "      <td>0.075461</td>\n",
       "      <td>0.045005</td>\n",
       "      <td>0.027718</td>\n",
       "      <td>0.152746</td>\n",
       "      <td>0.131750</td>\n",
       "      <td>0.082637</td>\n",
       "      <td>0.100753</td>\n",
       "      <td>0.097194</td>\n",
       "      <td>-0.005216</td>\n",
       "    </tr>\n",
       "    <tr>\n",
       "      <th>GS</th>\n",
       "      <td>0.070405</td>\n",
       "      <td>0.072889</td>\n",
       "      <td>0.056890</td>\n",
       "      <td>0.083400</td>\n",
       "      <td>0.042081</td>\n",
       "      <td>0.076783</td>\n",
       "      <td>0.057860</td>\n",
       "      <td>0.030163</td>\n",
       "      <td>0.131750</td>\n",
       "      <td>0.150346</td>\n",
       "      <td>0.098791</td>\n",
       "      <td>0.125763</td>\n",
       "      <td>0.114761</td>\n",
       "      <td>-0.005024</td>\n",
       "    </tr>\n",
       "    <tr>\n",
       "      <th>BTC-USD</th>\n",
       "      <td>0.065519</td>\n",
       "      <td>0.052811</td>\n",
       "      <td>0.038595</td>\n",
       "      <td>0.084463</td>\n",
       "      <td>0.026965</td>\n",
       "      <td>0.058824</td>\n",
       "      <td>0.097676</td>\n",
       "      <td>0.040426</td>\n",
       "      <td>0.082637</td>\n",
       "      <td>0.098791</td>\n",
       "      <td>0.565177</td>\n",
       "      <td>0.629808</td>\n",
       "      <td>0.564104</td>\n",
       "      <td>-0.010199</td>\n",
       "    </tr>\n",
       "    <tr>\n",
       "      <th>ETH-USD</th>\n",
       "      <td>0.090744</td>\n",
       "      <td>0.074419</td>\n",
       "      <td>0.055310</td>\n",
       "      <td>0.111483</td>\n",
       "      <td>0.041780</td>\n",
       "      <td>0.085276</td>\n",
       "      <td>0.123404</td>\n",
       "      <td>0.062466</td>\n",
       "      <td>0.100753</td>\n",
       "      <td>0.125763</td>\n",
       "      <td>0.629808</td>\n",
       "      <td>1.027108</td>\n",
       "      <td>0.772980</td>\n",
       "      <td>-0.013098</td>\n",
       "    </tr>\n",
       "    <tr>\n",
       "      <th>BNB-USD</th>\n",
       "      <td>0.075793</td>\n",
       "      <td>0.071649</td>\n",
       "      <td>0.052803</td>\n",
       "      <td>0.105728</td>\n",
       "      <td>0.048092</td>\n",
       "      <td>0.073245</td>\n",
       "      <td>0.112404</td>\n",
       "      <td>0.047759</td>\n",
       "      <td>0.097194</td>\n",
       "      <td>0.114761</td>\n",
       "      <td>0.564104</td>\n",
       "      <td>0.772980</td>\n",
       "      <td>1.143836</td>\n",
       "      <td>-0.013029</td>\n",
       "    </tr>\n",
       "    <tr>\n",
       "      <th>USDT-USD</th>\n",
       "      <td>-0.006855</td>\n",
       "      <td>-0.004803</td>\n",
       "      <td>-0.003912</td>\n",
       "      <td>-0.002307</td>\n",
       "      <td>-0.004225</td>\n",
       "      <td>-0.004416</td>\n",
       "      <td>-0.003341</td>\n",
       "      <td>-0.004963</td>\n",
       "      <td>-0.005216</td>\n",
       "      <td>-0.005024</td>\n",
       "      <td>-0.010199</td>\n",
       "      <td>-0.013098</td>\n",
       "      <td>-0.013029</td>\n",
       "      <td>0.003686</td>\n",
       "    </tr>\n",
       "  </tbody>\n",
       "</table>\n",
       "</div>"
      ],
      "text/plain": [
       "              ORCL       IBM        KO       NKE       PFE       UNH  \\\n",
       "ORCL      0.117584  0.055605  0.041915  0.058547  0.043853  0.057091   \n",
       "IBM       0.055605  0.098103  0.050842  0.054333  0.042741  0.056600   \n",
       "KO        0.041915  0.050842  0.064659  0.046506  0.036846  0.050644   \n",
       "NKE       0.058547  0.054333  0.046506  0.139843  0.034529  0.064152   \n",
       "PFE       0.043853  0.042741  0.036846  0.034529  0.091679  0.048972   \n",
       "UNH       0.057091  0.056600  0.050644  0.064152  0.048972  0.114812   \n",
       "AMZN      0.056851  0.034818  0.027643  0.069343  0.026229  0.045657   \n",
       "WMT       0.038640  0.027256  0.027698  0.029851  0.025271  0.034310   \n",
       "JPM       0.070440  0.077947  0.061713  0.080089  0.047942  0.075461   \n",
       "GS        0.070405  0.072889  0.056890  0.083400  0.042081  0.076783   \n",
       "BTC-USD   0.065519  0.052811  0.038595  0.084463  0.026965  0.058824   \n",
       "ETH-USD   0.090744  0.074419  0.055310  0.111483  0.041780  0.085276   \n",
       "BNB-USD   0.075793  0.071649  0.052803  0.105728  0.048092  0.073245   \n",
       "USDT-USD -0.006855 -0.004803 -0.003912 -0.002307 -0.004225 -0.004416   \n",
       "\n",
       "              AMZN       WMT       JPM        GS   BTC-USD   ETH-USD  \\\n",
       "ORCL      0.056851  0.038640  0.070440  0.070405  0.065519  0.090744   \n",
       "IBM       0.034818  0.027256  0.077947  0.072889  0.052811  0.074419   \n",
       "KO        0.027643  0.027698  0.061713  0.056890  0.038595  0.055310   \n",
       "NKE       0.069343  0.029851  0.080089  0.083400  0.084463  0.111483   \n",
       "PFE       0.026229  0.025271  0.047942  0.042081  0.026965  0.041780   \n",
       "UNH       0.045657  0.034310  0.075461  0.076783  0.058824  0.085276   \n",
       "AMZN      0.149366  0.033882  0.045005  0.057860  0.097676  0.123404   \n",
       "WMT       0.033882  0.068709  0.027718  0.030163  0.040426  0.062466   \n",
       "JPM       0.045005  0.027718  0.152746  0.131750  0.082637  0.100753   \n",
       "GS        0.057860  0.030163  0.131750  0.150346  0.098791  0.125763   \n",
       "BTC-USD   0.097676  0.040426  0.082637  0.098791  0.565177  0.629808   \n",
       "ETH-USD   0.123404  0.062466  0.100753  0.125763  0.629808  1.027108   \n",
       "BNB-USD   0.112404  0.047759  0.097194  0.114761  0.564104  0.772980   \n",
       "USDT-USD -0.003341 -0.004963 -0.005216 -0.005024 -0.010199 -0.013098   \n",
       "\n",
       "           BNB-USD  USDT-USD  \n",
       "ORCL      0.075793 -0.006855  \n",
       "IBM       0.071649 -0.004803  \n",
       "KO        0.052803 -0.003912  \n",
       "NKE       0.105728 -0.002307  \n",
       "PFE       0.048092 -0.004225  \n",
       "UNH       0.073245 -0.004416  \n",
       "AMZN      0.112404 -0.003341  \n",
       "WMT       0.047759 -0.004963  \n",
       "JPM       0.097194 -0.005216  \n",
       "GS        0.114761 -0.005024  \n",
       "BTC-USD   0.564104 -0.010199  \n",
       "ETH-USD   0.772980 -0.013098  \n",
       "BNB-USD   1.143836 -0.013029  \n",
       "USDT-USD -0.013029  0.003686  "
      ]
     },
     "execution_count": 10,
     "metadata": {},
     "output_type": "execute_result"
    }
   ],
   "source": [
    "# Calculating the covariance matrix using the annualized log returns\n",
    "cov_matrix = daily_log_returns.cov() * 252\n",
    "cov_matrix"
   ]
  },
  {
   "cell_type": "code",
   "execution_count": 11,
   "metadata": {},
   "outputs": [],
   "source": [
    "# Calculate the portfolio standard deviation\n",
    "def standard_deviation(weights, cov_matrix):\n",
    "    variance = weights.T @ cov_matrix @ weights\n",
    "    return np.sqrt(variance)\n",
    "# @ to multiply matrix"
   ]
  },
  {
   "cell_type": "code",
   "execution_count": 12,
   "metadata": {},
   "outputs": [],
   "source": [
    "# Calculate the expected return\n",
    "def expected_return(weights, log_returns):\n",
    "    return np.sum(log_returns.mean() * weights) * 252"
   ]
  },
  {
   "cell_type": "code",
   "execution_count": 13,
   "metadata": {},
   "outputs": [],
   "source": [
    "# Calculate the Sharpe Ratio\n",
    "def sharpe_ratio(weights, log_returns, cov_matrix, risk_free_rate):\n",
    "    return (expected_return(weights, log_returns) - risk_free_rate) / standard_deviation(weights, cov_matrix)"
   ]
  },
  {
   "cell_type": "code",
   "execution_count": 14,
   "metadata": {},
   "outputs": [],
   "source": [
    "# Replace 'your_api_key' with your actual FRED API key\n",
    "fred = Fred(api_key = 'secret')\n",
    "ten_year_treasury_rate = fred.get_series_latest_release('GS10') / 100"
   ]
  },
  {
   "cell_type": "code",
   "execution_count": 15,
   "metadata": {},
   "outputs": [
    {
     "data": {
      "text/plain": [
       "0.0421"
      ]
     },
     "execution_count": 15,
     "metadata": {},
     "output_type": "execute_result"
    }
   ],
   "source": [
    "# Set the risk-free rate\n",
    "risk_free_rate = ten_year_treasury_rate.iloc[-1]\n",
    "risk_free_rate"
   ]
  },
  {
   "cell_type": "code",
   "execution_count": 16,
   "metadata": {},
   "outputs": [],
   "source": [
    "# In the case of the scipy.optimize.minimize() function, there is no direct method to find the maximum value\n",
    "def neg_sharpe_ratio(weights, log_returns, cov_matrix, risk_free_rate):\n",
    "    return -sharpe_ratio(weights, log_returns, cov_matrix, risk_free_rate)\n",
    "\n",
    "# A otimização tentará minimizar o negativo do índice de Sharpe, o que é equivalente a maximizar o índice de Sharpe"
   ]
  },
  {
   "cell_type": "code",
   "execution_count": 17,
   "metadata": {},
   "outputs": [],
   "source": [
    "constraints = {'type': 'eq', 'fun': lambda weights: np.sum(weights) - 1}\n",
    "bounds = [(0, 0.5) for _ in range(len(tickers))]"
   ]
  },
  {
   "cell_type": "code",
   "execution_count": 18,
   "metadata": {},
   "outputs": [],
   "source": [
    "initial_weights = np.array([1/len(tickers)]*len(tickers))"
   ]
  },
  {
   "cell_type": "code",
   "execution_count": 19,
   "metadata": {},
   "outputs": [],
   "source": [
    "optimized_results = minimize(neg_sharpe_ratio, initial_weights, args=(daily_log_returns, cov_matrix, risk_free_rate), method='SLSQP', constraints=constraints, bounds=bounds)"
   ]
  },
  {
   "cell_type": "code",
   "execution_count": 20,
   "metadata": {},
   "outputs": [],
   "source": [
    "optimal_weights = optimized_results.x"
   ]
  },
  {
   "cell_type": "code",
   "execution_count": 21,
   "metadata": {},
   "outputs": [
    {
     "name": "stdout",
     "output_type": "stream",
     "text": [
      "Optimal Weights:\n",
      "ORCL: 0.0000\n",
      "IBM: 0.0000\n",
      "KO: 0.0000\n",
      "NKE: 0.0000\n",
      "PFE: 0.0949\n",
      "UNH: 0.5000\n",
      "AMZN: 0.0000\n",
      "WMT: 0.0000\n",
      "JPM: 0.0000\n",
      "GS: 0.0000\n",
      "BTC-USD: 0.0000\n",
      "ETH-USD: 0.0290\n",
      "BNB-USD: 0.3761\n",
      "USDT-USD: 0.0000\n",
      "Expected Return: 0.5293\n",
      "Expected Volatility: 0.4974\n",
      "Sharpe Ratio: 0.9796\n"
     ]
    }
   ],
   "source": [
    "print(\"Optimal Weights:\")\n",
    "for ticker, weight in zip(tickers, optimal_weights):\n",
    "    print(f\"{ticker}: {weight:.4f}\")\n",
    "\n",
    "optimal_portfolio_return = expected_return(optimal_weights, daily_log_returns)\n",
    "optimal_portfolio_volatility = standard_deviation(optimal_weights, cov_matrix)\n",
    "optimal_sharpe_ratio = sharpe_ratio(optimal_weights, daily_log_returns, cov_matrix, risk_free_rate)\n",
    "\n",
    "print(f\"Expected Return: {optimal_portfolio_return:.4f}\")\n",
    "print(f\"Expected Volatility: {optimal_portfolio_volatility:.4f}\")\n",
    "print(f\"Sharpe Ratio: {optimal_sharpe_ratio:.4f}\")"
   ]
  },
  {
   "cell_type": "code",
   "execution_count": 22,
   "metadata": {},
   "outputs": [
    {
     "data": {
      "text/plain": [
       "UNH         0.5000\n",
       "BNB-USD     0.3761\n",
       "PFE         0.0949\n",
       "ETH-USD     0.0290\n",
       "ORCL        0.0000\n",
       "IBM         0.0000\n",
       "KO          0.0000\n",
       "NKE         0.0000\n",
       "AMZN        0.0000\n",
       "WMT         0.0000\n",
       "JPM         0.0000\n",
       "GS          0.0000\n",
       "BTC-USD     0.0000\n",
       "USDT-USD    0.0000\n",
       "Name: Weight, dtype: float64"
      ]
     },
     "execution_count": 22,
     "metadata": {},
     "output_type": "execute_result"
    }
   ],
   "source": [
    "formatted_weights = [f\"{weight:.4f}\" for weight in optimal_weights]\n",
    "data = list(zip(tickers, formatted_weights))\n",
    "series = pd.Series(formatted_weights, index=tickers, name='Weight')\n",
    "series = series.astype(float)\n",
    "series = series.sort_values(ascending=False)\n",
    "series"
   ]
  },
  {
   "cell_type": "code",
   "execution_count": 23,
   "metadata": {},
   "outputs": [
    {
     "data": {
      "image/png": "[encoded data removed]",
      "text/plain": [
       "<Figure size 1300x600 with 1 Axes>"
      ]
     },
     "metadata": {},
     "output_type": "display_data"
    }
   ],
   "source": [
    "# Import\n",
    "plt.style.use('https://github.com/dhaitz/matplotlib-stylesheets/raw/master/pitayasmoothie-dark.mplstyle')\n",
    "\n",
    "# Create a bar chart of the optimal weights\n",
    "plt.figure(figsize=(13, 6))\n",
    "plt.bar(series.index, series, color = '#f26196')\n",
    "\n",
    "# Add labels and title\n",
    "plt.xlabel('Assets')\n",
    "plt.ylabel('Optimal Weights')\n",
    "plt.title('Optimal Portfolio Weights')\n",
    "\n",
    "# Show the plot\n",
    "plt.show()"
   ]
  },
  {
   "cell_type": "code",
   "execution_count": 24,
   "metadata": {},
   "outputs": [],
   "source": [
    "# Calculate the lognormal returns for each ticker\n",
    "daily_log_returns = np.log(out_sample / out_sample.shift(1))"
   ]
  },
  {
   "cell_type": "code",
   "execution_count": 25,
   "metadata": {},
   "outputs": [],
   "source": [
    "# Drop any missing values\n",
    "daily_log_returns = daily_log_returns.dropna()"
   ]
  },
  {
   "cell_type": "code",
   "execution_count": 26,
   "metadata": {},
   "outputs": [
    {
     "data": {
      "text/html": [
       "<div>\n",
       "<style scoped>\n",
       "    .dataframe tbody tr th:only-of-type {\n",
       "        vertical-align: middle;\n",
       "    }\n",
       "\n",
       "    .dataframe tbody tr th {\n",
       "        vertical-align: top;\n",
       "    }\n",
       "\n",
       "    .dataframe thead th {\n",
       "        text-align: right;\n",
       "    }\n",
       "</style>\n",
       "<table border=\"1\" class=\"dataframe\">\n",
       "  <thead>\n",
       "    <tr style=\"text-align: right;\">\n",
       "      <th></th>\n",
       "      <th>ORCL</th>\n",
       "      <th>IBM</th>\n",
       "      <th>KO</th>\n",
       "      <th>NKE</th>\n",
       "      <th>PFE</th>\n",
       "      <th>UNH</th>\n",
       "      <th>AMZN</th>\n",
       "      <th>WMT</th>\n",
       "      <th>JPM</th>\n",
       "      <th>GS</th>\n",
       "      <th>BTC-USD</th>\n",
       "      <th>ETH-USD</th>\n",
       "      <th>BNB-USD</th>\n",
       "      <th>USDT-USD</th>\n",
       "    </tr>\n",
       "    <tr>\n",
       "      <th>Date</th>\n",
       "      <th></th>\n",
       "      <th></th>\n",
       "      <th></th>\n",
       "      <th></th>\n",
       "      <th></th>\n",
       "      <th></th>\n",
       "      <th></th>\n",
       "      <th></th>\n",
       "      <th></th>\n",
       "      <th></th>\n",
       "      <th></th>\n",
       "      <th></th>\n",
       "      <th></th>\n",
       "      <th></th>\n",
       "    </tr>\n",
       "  </thead>\n",
       "  <tbody>\n",
       "    <tr>\n",
       "      <th>2022-10-26</th>\n",
       "      <td>0.022710</td>\n",
       "      <td>0.015526</td>\n",
       "      <td>0.007436</td>\n",
       "      <td>0.007278</td>\n",
       "      <td>0.010257</td>\n",
       "      <td>0.005446</td>\n",
       "      <td>-0.041824</td>\n",
       "      <td>0.007610</td>\n",
       "      <td>0.011426</td>\n",
       "      <td>0.009849</td>\n",
       "      <td>0.033017</td>\n",
       "      <td>0.069310</td>\n",
       "      <td>0.020684</td>\n",
       "      <td>-0.000009</td>\n",
       "    </tr>\n",
       "    <tr>\n",
       "      <th>2022-10-27</th>\n",
       "      <td>0.004401</td>\n",
       "      <td>-0.001779</td>\n",
       "      <td>0.002354</td>\n",
       "      <td>-0.020227</td>\n",
       "      <td>-0.006972</td>\n",
       "      <td>-0.002525</td>\n",
       "      <td>-0.041485</td>\n",
       "      <td>-0.002909</td>\n",
       "      <td>0.003940</td>\n",
       "      <td>0.004429</td>\n",
       "      <td>-0.023608</td>\n",
       "      <td>-0.033884</td>\n",
       "      <td>-0.012241</td>\n",
       "      <td>-0.000107</td>\n",
       "    </tr>\n",
       "    <tr>\n",
       "      <th>2022-10-28</th>\n",
       "      <td>0.028984</td>\n",
       "      <td>0.027372</td>\n",
       "      <td>0.020451</td>\n",
       "      <td>0.035693</td>\n",
       "      <td>0.036282</td>\n",
       "      <td>0.017273</td>\n",
       "      <td>-0.070468</td>\n",
       "      <td>0.012569</td>\n",
       "      <td>0.011808</td>\n",
       "      <td>0.013667</td>\n",
       "      <td>0.015142</td>\n",
       "      <td>0.026780</td>\n",
       "      <td>0.038202</td>\n",
       "      <td>0.000054</td>\n",
       "    </tr>\n",
       "    <tr>\n",
       "      <th>2022-10-31</th>\n",
       "      <td>0.009136</td>\n",
       "      <td>-0.001589</td>\n",
       "      <td>-0.015090</td>\n",
       "      <td>-0.012332</td>\n",
       "      <td>-0.018728</td>\n",
       "      <td>0.007068</td>\n",
       "      <td>-0.009424</td>\n",
       "      <td>-0.001264</td>\n",
       "      <td>-0.001588</td>\n",
       "      <td>0.007839</td>\n",
       "      <td>-0.004847</td>\n",
       "      <td>0.011020</td>\n",
       "      <td>0.090862</td>\n",
       "      <td>-0.000199</td>\n",
       "    </tr>\n",
       "    <tr>\n",
       "      <th>2022-11-01</th>\n",
       "      <td>-0.012373</td>\n",
       "      <td>-0.000651</td>\n",
       "      <td>-0.003515</td>\n",
       "      <td>0.011692</td>\n",
       "      <td>0.030882</td>\n",
       "      <td>-0.014223</td>\n",
       "      <td>-0.056734</td>\n",
       "      <td>-0.004507</td>\n",
       "      <td>0.017872</td>\n",
       "      <td>0.011744</td>\n",
       "      <td>-0.000512</td>\n",
       "      <td>0.004435</td>\n",
       "      <td>-0.005473</td>\n",
       "      <td>-0.000023</td>\n",
       "    </tr>\n",
       "  </tbody>\n",
       "</table>\n",
       "</div>"
      ],
      "text/plain": [
       "                ORCL       IBM        KO       NKE       PFE       UNH  \\\n",
       "Date                                                                     \n",
       "2022-10-26  0.022710  0.015526  0.007436  0.007278  0.010257  0.005446   \n",
       "2022-10-27  0.004401 -0.001779  0.002354 -0.020227 -0.006972 -0.002525   \n",
       "2022-10-28  0.028984  0.027372  0.020451  0.035693  0.036282  0.017273   \n",
       "2022-10-31  0.009136 -0.001589 -0.015090 -0.012332 -0.018728  0.007068   \n",
       "2022-11-01 -0.012373 -0.000651 -0.003515  0.011692  0.030882 -0.014223   \n",
       "\n",
       "                AMZN       WMT       JPM        GS   BTC-USD   ETH-USD  \\\n",
       "Date                                                                     \n",
       "2022-10-26 -0.041824  0.007610  0.011426  0.009849  0.033017  0.069310   \n",
       "2022-10-27 -0.041485 -0.002909  0.003940  0.004429 -0.023608 -0.033884   \n",
       "2022-10-28 -0.070468  0.012569  0.011808  0.013667  0.015142  0.026780   \n",
       "2022-10-31 -0.009424 -0.001264 -0.001588  0.007839 -0.004847  0.011020   \n",
       "2022-11-01 -0.056734 -0.004507  0.017872  0.011744 -0.000512  0.004435   \n",
       "\n",
       "             BNB-USD  USDT-USD  \n",
       "Date                            \n",
       "2022-10-26  0.020684 -0.000009  \n",
       "2022-10-27 -0.012241 -0.000107  \n",
       "2022-10-28  0.038202  0.000054  \n",
       "2022-10-31  0.090862 -0.000199  \n",
       "2022-11-01 -0.005473 -0.000023  "
      ]
     },
     "execution_count": 26,
     "metadata": {},
     "output_type": "execute_result"
    }
   ],
   "source": [
    "daily_log_returns.head()"
   ]
  },
  {
   "cell_type": "code",
   "execution_count": 27,
   "metadata": {},
   "outputs": [
    {
     "data": {
      "text/plain": [
       "array([0.07142857, 0.07142857, 0.07142857, 0.07142857, 0.07142857,\n",
       "       0.07142857, 0.07142857, 0.07142857, 0.07142857, 0.07142857,\n",
       "       0.07142857, 0.07142857, 0.07142857, 0.07142857])"
      ]
     },
     "execution_count": 27,
     "metadata": {},
     "output_type": "execute_result"
    }
   ],
   "source": [
    "# Create naive portfolio\n",
    "num_assets = len(df.columns)\n",
    "n = 1 / float(num_assets)\n",
    "naive_weights = [n] * num_assets\n",
    "naive_weights = np.array(naive_weights)\n",
    "naive_weights"
   ]
  },
  {
   "cell_type": "code",
   "execution_count": 28,
   "metadata": {},
   "outputs": [
    {
     "data": {
      "text/plain": [
       "2.6093944014400432e-05"
      ]
     },
     "execution_count": 28,
     "metadata": {},
     "output_type": "execute_result"
    }
   ],
   "source": [
    "meanDailyReturns = daily_log_returns.mean()\n",
    "portReturns = np.sum(meanDailyReturns*series)\n",
    "portReturns"
   ]
  },
  {
   "cell_type": "code",
   "execution_count": 29,
   "metadata": {},
   "outputs": [
    {
     "data": {
      "text/html": [
       "<div>\n",
       "<style scoped>\n",
       "    .dataframe tbody tr th:only-of-type {\n",
       "        vertical-align: middle;\n",
       "    }\n",
       "\n",
       "    .dataframe tbody tr th {\n",
       "        vertical-align: top;\n",
       "    }\n",
       "\n",
       "    .dataframe thead th {\n",
       "        text-align: right;\n",
       "    }\n",
       "</style>\n",
       "<table border=\"1\" class=\"dataframe\">\n",
       "  <thead>\n",
       "    <tr style=\"text-align: right;\">\n",
       "      <th></th>\n",
       "      <th>ORCL</th>\n",
       "      <th>IBM</th>\n",
       "      <th>KO</th>\n",
       "      <th>NKE</th>\n",
       "      <th>PFE</th>\n",
       "      <th>UNH</th>\n",
       "      <th>AMZN</th>\n",
       "      <th>WMT</th>\n",
       "      <th>JPM</th>\n",
       "      <th>GS</th>\n",
       "      <th>BTC-USD</th>\n",
       "      <th>ETH-USD</th>\n",
       "      <th>BNB-USD</th>\n",
       "      <th>USDT-USD</th>\n",
       "    </tr>\n",
       "    <tr>\n",
       "      <th>Date</th>\n",
       "      <th></th>\n",
       "      <th></th>\n",
       "      <th></th>\n",
       "      <th></th>\n",
       "      <th></th>\n",
       "      <th></th>\n",
       "      <th></th>\n",
       "      <th></th>\n",
       "      <th></th>\n",
       "      <th></th>\n",
       "      <th></th>\n",
       "      <th></th>\n",
       "      <th></th>\n",
       "      <th></th>\n",
       "    </tr>\n",
       "  </thead>\n",
       "  <tbody>\n",
       "    <tr>\n",
       "      <th>2023-12-22</th>\n",
       "      <td>0.003207</td>\n",
       "      <td>0.008423</td>\n",
       "      <td>0.005674</td>\n",
       "      <td>-0.125854</td>\n",
       "      <td>0.003174</td>\n",
       "      <td>0.000827</td>\n",
       "      <td>-0.002734</td>\n",
       "      <td>0.011880</td>\n",
       "      <td>-0.000597</td>\n",
       "      <td>0.000210</td>\n",
       "      <td>0.002931</td>\n",
       "      <td>0.038104</td>\n",
       "      <td>0.000479</td>\n",
       "      <td>0.000796</td>\n",
       "    </tr>\n",
       "    <tr>\n",
       "      <th>2023-12-26</th>\n",
       "      <td>-0.000094</td>\n",
       "      <td>0.006578</td>\n",
       "      <td>0.004107</td>\n",
       "      <td>-0.000185</td>\n",
       "      <td>0.000352</td>\n",
       "      <td>-0.000538</td>\n",
       "      <td>-0.000065</td>\n",
       "      <td>-0.001533</td>\n",
       "      <td>0.005897</td>\n",
       "      <td>0.002519</td>\n",
       "      <td>-0.034158</td>\n",
       "      <td>-0.041717</td>\n",
       "      <td>0.092556</td>\n",
       "      <td>-0.000709</td>\n",
       "    </tr>\n",
       "    <tr>\n",
       "      <th>2023-12-27</th>\n",
       "      <td>-0.002357</td>\n",
       "      <td>0.001531</td>\n",
       "      <td>0.002558</td>\n",
       "      <td>-0.008273</td>\n",
       "      <td>0.007015</td>\n",
       "      <td>0.005293</td>\n",
       "      <td>-0.000456</td>\n",
       "      <td>0.009355</td>\n",
       "      <td>0.005980</td>\n",
       "      <td>0.007493</td>\n",
       "      <td>0.021462</td>\n",
       "      <td>0.063912</td>\n",
       "      <td>0.083684</td>\n",
       "      <td>0.000461</td>\n",
       "    </tr>\n",
       "    <tr>\n",
       "      <th>2023-12-28</th>\n",
       "      <td>0.002922</td>\n",
       "      <td>0.001772</td>\n",
       "      <td>0.000681</td>\n",
       "      <td>0.015652</td>\n",
       "      <td>0.006272</td>\n",
       "      <td>0.004028</td>\n",
       "      <td>0.000261</td>\n",
       "      <td>-0.001965</td>\n",
       "      <td>0.005299</td>\n",
       "      <td>0.005007</td>\n",
       "      <td>-0.018938</td>\n",
       "      <td>-0.013192</td>\n",
       "      <td>-0.000242</td>\n",
       "      <td>0.000491</td>\n",
       "    </tr>\n",
       "    <tr>\n",
       "      <th>2023-12-29</th>\n",
       "      <td>-0.007748</td>\n",
       "      <td>-0.001222</td>\n",
       "      <td>0.003059</td>\n",
       "      <td>-0.002300</td>\n",
       "      <td>0.000000</td>\n",
       "      <td>0.002986</td>\n",
       "      <td>-0.009433</td>\n",
       "      <td>0.000508</td>\n",
       "      <td>-0.001175</td>\n",
       "      <td>-0.001658</td>\n",
       "      <td>-0.012474</td>\n",
       "      <td>-0.020170</td>\n",
       "      <td>-0.030498</td>\n",
       "      <td>-0.000736</td>\n",
       "    </tr>\n",
       "  </tbody>\n",
       "</table>\n",
       "</div>"
      ],
      "text/plain": [
       "                ORCL       IBM        KO       NKE       PFE       UNH  \\\n",
       "Date                                                                     \n",
       "2023-12-22  0.003207  0.008423  0.005674 -0.125854  0.003174  0.000827   \n",
       "2023-12-26 -0.000094  0.006578  0.004107 -0.000185  0.000352 -0.000538   \n",
       "2023-12-27 -0.002357  0.001531  0.002558 -0.008273  0.007015  0.005293   \n",
       "2023-12-28  0.002922  0.001772  0.000681  0.015652  0.006272  0.004028   \n",
       "2023-12-29 -0.007748 -0.001222  0.003059 -0.002300  0.000000  0.002986   \n",
       "\n",
       "                AMZN       WMT       JPM        GS   BTC-USD   ETH-USD  \\\n",
       "Date                                                                     \n",
       "2023-12-22 -0.002734  0.011880 -0.000597  0.000210  0.002931  0.038104   \n",
       "2023-12-26 -0.000065 -0.001533  0.005897  0.002519 -0.034158 -0.041717   \n",
       "2023-12-27 -0.000456  0.009355  0.005980  0.007493  0.021462  0.063912   \n",
       "2023-12-28  0.000261 -0.001965  0.005299  0.005007 -0.018938 -0.013192   \n",
       "2023-12-29 -0.009433  0.000508 -0.001175 -0.001658 -0.012474 -0.020170   \n",
       "\n",
       "             BNB-USD  USDT-USD  \n",
       "Date                            \n",
       "2023-12-22  0.000479  0.000796  \n",
       "2023-12-26  0.092556 -0.000709  \n",
       "2023-12-27  0.083684  0.000461  \n",
       "2023-12-28 -0.000242  0.000491  \n",
       "2023-12-29 -0.030498 -0.000736  "
      ]
     },
     "execution_count": 29,
     "metadata": {},
     "output_type": "execute_result"
    }
   ],
   "source": [
    "daily_log_returns.tail()"
   ]
  },
  {
   "cell_type": "code",
   "execution_count": 30,
   "metadata": {},
   "outputs": [],
   "source": [
    "portfolio_returns = pd.DataFrame()\n",
    "portfolio_returns['Naive Portfolio'] = daily_log_returns.dot(naive_weights)\n",
    "portfolio_returns['Historical Portfolio'] = daily_log_returns.dot(series)"
   ]
  },
  {
   "cell_type": "code",
   "execution_count": 31,
   "metadata": {},
   "outputs": [
    {
     "data": {
      "text/html": [
       "<div>\n",
       "<style scoped>\n",
       "    .dataframe tbody tr th:only-of-type {\n",
       "        vertical-align: middle;\n",
       "    }\n",
       "\n",
       "    .dataframe tbody tr th {\n",
       "        vertical-align: top;\n",
       "    }\n",
       "\n",
       "    .dataframe thead th {\n",
       "        text-align: right;\n",
       "    }\n",
       "</style>\n",
       "<table border=\"1\" class=\"dataframe\">\n",
       "  <thead>\n",
       "    <tr style=\"text-align: right;\">\n",
       "      <th></th>\n",
       "      <th>Naive Portfolio</th>\n",
       "      <th>Historical Portfolio</th>\n",
       "    </tr>\n",
       "    <tr>\n",
       "      <th>Date</th>\n",
       "      <th></th>\n",
       "      <th></th>\n",
       "    </tr>\n",
       "  </thead>\n",
       "  <tbody>\n",
       "    <tr>\n",
       "      <th>2023-12-22</th>\n",
       "      <td>-0.003820</td>\n",
       "      <td>0.002000</td>\n",
       "    </tr>\n",
       "    <tr>\n",
       "      <th>2023-12-26</th>\n",
       "      <td>0.002358</td>\n",
       "      <td>0.033365</td>\n",
       "    </tr>\n",
       "    <tr>\n",
       "      <th>2023-12-27</th>\n",
       "      <td>0.014118</td>\n",
       "      <td>0.036639</td>\n",
       "    </tr>\n",
       "    <tr>\n",
       "      <th>2023-12-28</th>\n",
       "      <td>0.000575</td>\n",
       "      <td>0.002136</td>\n",
       "    </tr>\n",
       "    <tr>\n",
       "      <th>2023-12-29</th>\n",
       "      <td>-0.005776</td>\n",
       "      <td>-0.010562</td>\n",
       "    </tr>\n",
       "  </tbody>\n",
       "</table>\n",
       "</div>"
      ],
      "text/plain": [
       "            Naive Portfolio  Historical Portfolio\n",
       "Date                                             \n",
       "2023-12-22        -0.003820              0.002000\n",
       "2023-12-26         0.002358              0.033365\n",
       "2023-12-27         0.014118              0.036639\n",
       "2023-12-28         0.000575              0.002136\n",
       "2023-12-29        -0.005776             -0.010562"
      ]
     },
     "execution_count": 31,
     "metadata": {},
     "output_type": "execute_result"
    }
   ],
   "source": [
    "portfolio_returns.tail()"
   ]
  },
  {
   "cell_type": "code",
   "execution_count": 32,
   "metadata": {},
   "outputs": [
    {
     "data": {
      "text/html": [
       "<div>\n",
       "<style scoped>\n",
       "    .dataframe tbody tr th:only-of-type {\n",
       "        vertical-align: middle;\n",
       "    }\n",
       "\n",
       "    .dataframe tbody tr th {\n",
       "        vertical-align: top;\n",
       "    }\n",
       "\n",
       "    .dataframe thead th {\n",
       "        text-align: right;\n",
       "    }\n",
       "</style>\n",
       "<table border=\"1\" class=\"dataframe\">\n",
       "  <thead>\n",
       "    <tr style=\"text-align: right;\">\n",
       "      <th></th>\n",
       "      <th>Naive Portfolio</th>\n",
       "      <th>Historical Portfolio</th>\n",
       "    </tr>\n",
       "    <tr>\n",
       "      <th>Date</th>\n",
       "      <th></th>\n",
       "      <th></th>\n",
       "    </tr>\n",
       "  </thead>\n",
       "  <tbody>\n",
       "    <tr>\n",
       "      <th>2022-10-26</th>\n",
       "      <td>1.012765</td>\n",
       "      <td>1.013486</td>\n",
       "    </tr>\n",
       "    <tr>\n",
       "      <th>2022-10-27</th>\n",
       "      <td>1.003317</td>\n",
       "      <td>1.005873</td>\n",
       "    </tr>\n",
       "    <tr>\n",
       "      <th>2022-10-28</th>\n",
       "      <td>1.018640</td>\n",
       "      <td>1.033258</td>\n",
       "    </tr>\n",
       "    <tr>\n",
       "      <th>2022-10-31</th>\n",
       "      <td>1.023068</td>\n",
       "      <td>1.070713</td>\n",
       "    </tr>\n",
       "    <tr>\n",
       "      <th>2022-11-01</th>\n",
       "      <td>1.021505</td>\n",
       "      <td>1.064170</td>\n",
       "    </tr>\n",
       "    <tr>\n",
       "      <th>...</th>\n",
       "      <td>...</td>\n",
       "      <td>...</td>\n",
       "    </tr>\n",
       "    <tr>\n",
       "      <th>2023-12-22</th>\n",
       "      <td>1.178195</td>\n",
       "      <td>0.912762</td>\n",
       "    </tr>\n",
       "    <tr>\n",
       "      <th>2023-12-26</th>\n",
       "      <td>1.180973</td>\n",
       "      <td>0.943216</td>\n",
       "    </tr>\n",
       "    <tr>\n",
       "      <th>2023-12-27</th>\n",
       "      <td>1.197646</td>\n",
       "      <td>0.977775</td>\n",
       "    </tr>\n",
       "    <tr>\n",
       "      <th>2023-12-28</th>\n",
       "      <td>1.198334</td>\n",
       "      <td>0.979863</td>\n",
       "    </tr>\n",
       "    <tr>\n",
       "      <th>2023-12-29</th>\n",
       "      <td>1.191413</td>\n",
       "      <td>0.969514</td>\n",
       "    </tr>\n",
       "  </tbody>\n",
       "</table>\n",
       "<p>296 rows × 2 columns</p>\n",
       "</div>"
      ],
      "text/plain": [
       "            Naive Portfolio  Historical Portfolio\n",
       "Date                                             \n",
       "2022-10-26         1.012765              1.013486\n",
       "2022-10-27         1.003317              1.005873\n",
       "2022-10-28         1.018640              1.033258\n",
       "2022-10-31         1.023068              1.070713\n",
       "2022-11-01         1.021505              1.064170\n",
       "...                     ...                   ...\n",
       "2023-12-22         1.178195              0.912762\n",
       "2023-12-26         1.180973              0.943216\n",
       "2023-12-27         1.197646              0.977775\n",
       "2023-12-28         1.198334              0.979863\n",
       "2023-12-29         1.191413              0.969514\n",
       "\n",
       "[296 rows x 2 columns]"
      ]
     },
     "execution_count": 32,
     "metadata": {},
     "output_type": "execute_result"
    }
   ],
   "source": [
    "daily_cumulative_returns = (1+portfolio_returns).cumprod()\n",
    "daily_cumulative_returns"
   ]
  },
  {
   "cell_type": "code",
   "execution_count": 36,
   "metadata": {},
   "outputs": [
    {
     "data": {
      "image/png": "[encoded data removed]",
      "text/plain": [
       "<Figure size 1000x500 with 1 Axes>"
      ]
     },
     "metadata": {},
     "output_type": "display_data"
    }
   ],
   "source": [
    "# Dados de exemplo\n",
    "x = daily_cumulative_returns.index\n",
    "y1 = daily_cumulative_returns['Historical Portfolio']\n",
    "y2 = daily_cumulative_returns['Naive Portfolio']\n",
    "\n",
    "# Criando o gráfico\n",
    "plt.figure(figsize=(10, 5))\n",
    "plt.plot(x, y1, label='Historical Allocation')\n",
    "plt.plot(x, y2, label='Naive Allocation')\n",
    "\n",
    "# Formatando os rótulos do eixo x para exibir nomes de meses e ano\n",
    "date_form = DateFormatter(\"%b %Y\")\n",
    "plt.gca().xaxis.set_major_formatter(date_form)\n",
    "\n",
    "# Adicionando título e rótulos dos eixos\n",
    "plt.title('Portfolio Returns')\n",
    "plt.ylabel('Cumulative Daily Return')\n",
    "\n",
    "# Adicionando legenda\n",
    "plt.legend()\n",
    "\n",
    "# Exibindo o gráfico\n",
    "plt.tight_layout()  # Ajustando o layout para evitar sobreposição de texto\n",
    "plt.show()"
   ]
  },
  {
   "cell_type": "code",
   "execution_count": 37,
   "metadata": {},
   "outputs": [
    {
     "data": {
      "application/vnd.plotly.v1+json": {
       "config": {
        "plotlyServerURL": "https://plot.ly"
       },
       "data": [
        {
         "mode": "lines",
         "name": "Historical Allocation",
         "type": "scatter",
         "x": [
          "2022-10-26T00:00:00",
          "2022-10-27T00:00:00",
          "2022-10-28T00:00:00",
          "2022-10-31T00:00:00",
          "2022-11-01T00:00:00",
          "2022-11-02T00:00:00",
          "2022-11-03T00:00:00",
          "2022-11-04T00:00:00",
          "2022-11-07T00:00:00",
          "2022-11-08T00:00:00",
          "2022-11-09T00:00:00",
          "2022-11-10T00:00:00",
          "2022-11-11T00:00:00",
          "2022-11-14T00:00:00",
          "2022-11-15T00:00:00",
          "2022-11-16T00:00:00",
          "2022-11-17T00:00:00",
          "2022-11-18T00:00:00",
          "2022-11-21T00:00:00",
          "2022-11-22T00:00:00",
          "2022-11-23T00:00:00",
          "2022-11-25T00:00:00",
          "2022-11-28T00:00:00",
          "2022-11-29T00:00:00",
          "2022-11-30T00:00:00",
          "2022-12-01T00:00:00",
          "2022-12-02T00:00:00",
          "2022-12-05T00:00:00",
          "2022-12-06T00:00:00",
          "2022-12-07T00:00:00",
          "2022-12-08T00:00:00",
          "2022-12-09T00:00:00",
          "2022-12-12T00:00:00",
          "2022-12-13T00:00:00",
          "2022-12-14T00:00:00",
          "2022-12-15T00:00:00",
          "2022-12-16T00:00:00",
          "2022-12-19T00:00:00",
          "2022-12-20T00:00:00",
          "2022-12-21T00:00:00",
          "2022-12-22T00:00:00",
          "2022-12-23T00:00:00",
          "2022-12-27T00:00:00",
          "2022-12-28T00:00:00",
          "2022-12-29T00:00:00",
          "2022-12-30T00:00:00",
          "2023-01-03T00:00:00",
          "2023-01-04T00:00:00",
          "2023-01-05T00:00:00",
          "2023-01-06T00:00:00",
          "2023-01-09T00:00:00",
          "2023-01-10T00:00:00",
          "2023-01-11T00:00:00",
          "2023-01-12T00:00:00",
          "2023-01-13T00:00:00",
          "2023-01-17T00:00:00",
          "2023-01-18T00:00:00",
          "2023-01-19T00:00:00",
          "2023-01-20T00:00:00",
          "2023-01-23T00:00:00",
          "2023-01-24T00:00:00",
          "2023-01-25T00:00:00",
          "2023-01-26T00:00:00",
          "2023-01-27T00:00:00",
          "2023-01-30T00:00:00",
          "2023-01-31T00:00:00",
          "2023-02-01T00:00:00",
          "2023-02-02T00:00:00",
          "2023-02-03T00:00:00",
          "2023-02-06T00:00:00",
          "2023-02-07T00:00:00",
          "2023-02-08T00:00:00",
          "2023-02-09T00:00:00",
          "2023-02-10T00:00:00",
          "2023-02-13T00:00:00",
          "2023-02-14T00:00:00",
          "2023-02-15T00:00:00",
          "2023-02-16T00:00:00",
          "2023-02-17T00:00:00",
          "2023-02-21T00:00:00",
          "2023-02-22T00:00:00",
          "2023-02-23T00:00:00",
          "2023-02-24T00:00:00",
          "2023-02-27T00:00:00",
          "2023-02-28T00:00:00",
          "2023-03-01T00:00:00",
          "2023-03-02T00:00:00",
          "2023-03-03T00:00:00",
          "2023-03-06T00:00:00",
          "2023-03-07T00:00:00",
          "2023-03-08T00:00:00",
          "2023-03-09T00:00:00",
          "2023-03-10T00:00:00",
          "2023-03-13T00:00:00",
          "2023-03-14T00:00:00",
          "2023-03-15T00:00:00",
          "2023-03-16T00:00:00",
          "2023-03-17T00:00:00",
          "2023-03-20T00:00:00",
          "2023-03-21T00:00:00",
          "2023-03-22T00:00:00",
          "2023-03-23T00:00:00",
          "2023-03-24T00:00:00",
          "2023-03-27T00:00:00",
          "2023-03-28T00:00:00",
          "2023-03-29T00:00:00",
          "2023-03-30T00:00:00",
          "2023-03-31T00:00:00",
          "2023-04-03T00:00:00",
          "2023-04-04T00:00:00",
          "2023-04-05T00:00:00",
          "2023-04-06T00:00:00",
          "2023-04-10T00:00:00",
          "2023-04-11T00:00:00",
          "2023-04-12T00:00:00",
          "2023-04-13T00:00:00",
          "2023-04-14T00:00:00",
          "2023-04-17T00:00:00",
          "2023-04-18T00:00:00",
          "2023-04-19T00:00:00",
          "2023-04-20T00:00:00",
          "2023-04-21T00:00:00",
          "2023-04-24T00:00:00",
          "2023-04-25T00:00:00",
          "2023-04-26T00:00:00",
          "2023-04-27T00:00:00",
          "2023-04-28T00:00:00",
          "2023-05-01T00:00:00",
          "2023-05-02T00:00:00",
          "2023-05-03T00:00:00",
          "2023-05-04T00:00:00",
          "2023-05-05T00:00:00",
          "2023-05-08T00:00:00",
          "2023-05-09T00:00:00",
          "2023-05-10T00:00:00",
          "2023-05-11T00:00:00",
          "2023-05-12T00:00:00",
          "2023-05-15T00:00:00",
          "2023-05-16T00:00:00",
          "2023-05-17T00:00:00",
          "2023-05-18T00:00:00",
          "2023-05-19T00:00:00",
          "2023-05-22T00:00:00",
          "2023-05-23T00:00:00",
          "2023-05-24T00:00:00",
          "2023-05-25T00:00:00",
          "2023-05-26T00:00:00",
          "2023-05-30T00:00:00",
          "2023-05-31T00:00:00",
          "2023-06-01T00:00:00",
          "2023-06-02T00:00:00",
          "2023-06-05T00:00:00",
          "2023-06-06T00:00:00",
          "2023-06-07T00:00:00",
          "2023-06-08T00:00:00",
          "2023-06-09T00:00:00",
          "2023-06-12T00:00:00",
          "2023-06-13T00:00:00",
          "2023-06-14T00:00:00",
          "2023-06-15T00:00:00",
          "2023-06-16T00:00:00",
          "2023-06-20T00:00:00",
          "2023-06-21T00:00:00",
          "2023-06-22T00:00:00",
          "2023-06-23T00:00:00",
          "2023-06-26T00:00:00",
          "2023-06-27T00:00:00",
          "2023-06-28T00:00:00",
          "2023-06-29T00:00:00",
          "2023-06-30T00:00:00",
          "2023-07-03T00:00:00",
          "2023-07-05T00:00:00",
          "2023-07-06T00:00:00",
          "2023-07-07T00:00:00",
          "2023-07-10T00:00:00",
          "2023-07-11T00:00:00",
          "2023-07-12T00:00:00",
          "2023-07-13T00:00:00",
          "2023-07-14T00:00:00",
          "2023-07-17T00:00:00",
          "2023-07-18T00:00:00",
          "2023-07-19T00:00:00",
          "2023-07-20T00:00:00",
          "2023-07-21T00:00:00",
          "2023-07-24T00:00:00",
          "2023-07-25T00:00:00",
          "2023-07-26T00:00:00",
          "2023-07-27T00:00:00",
          "2023-07-28T00:00:00",
          "2023-07-31T00:00:00",
          "2023-08-01T00:00:00",
          "2023-08-02T00:00:00",
          "2023-08-03T00:00:00",
          "2023-08-04T00:00:00",
          "2023-08-07T00:00:00",
          "2023-08-08T00:00:00",
          "2023-08-09T00:00:00",
          "2023-08-10T00:00:00",
          "2023-08-11T00:00:00",
          "2023-08-14T00:00:00",
          "2023-08-15T00:00:00",
          "2023-08-16T00:00:00",
          "2023-08-17T00:00:00",
          "2023-08-18T00:00:00",
          "2023-08-21T00:00:00",
          "2023-08-22T00:00:00",
          "2023-08-23T00:00:00",
          "2023-08-24T00:00:00",
          "2023-08-25T00:00:00",
          "2023-08-28T00:00:00",
          "2023-08-29T00:00:00",
          "2023-08-30T00:00:00",
          "2023-08-31T00:00:00",
          "2023-09-01T00:00:00",
          "2023-09-05T00:00:00",
          "2023-09-06T00:00:00",
          "2023-09-07T00:00:00",
          "2023-09-08T00:00:00",
          "2023-09-11T00:00:00",
          "2023-09-12T00:00:00",
          "2023-09-13T00:00:00",
          "2023-09-14T00:00:00",
          "2023-09-15T00:00:00",
          "2023-09-18T00:00:00",
          "2023-09-19T00:00:00",
          "2023-09-20T00:00:00",
          "2023-09-21T00:00:00",
          "2023-09-22T00:00:00",
          "2023-09-25T00:00:00",
          "2023-09-26T00:00:00",
          "2023-09-27T00:00:00",
          "2023-09-28T00:00:00",
          "2023-09-29T00:00:00",
          "2023-10-02T00:00:00",
          "2023-10-03T00:00:00",
          "2023-10-04T00:00:00",
          "2023-10-05T00:00:00",
          "2023-10-06T00:00:00",
          "2023-10-09T00:00:00",
          "2023-10-10T00:00:00",
          "2023-10-11T00:00:00",
          "2023-10-12T00:00:00",
          "2023-10-13T00:00:00",
          "2023-10-16T00:00:00",
          "2023-10-17T00:00:00",
          "2023-10-18T00:00:00",
          "2023-10-19T00:00:00",
          "2023-10-20T00:00:00",
          "2023-10-23T00:00:00",
          "2023-10-24T00:00:00",
          "2023-10-25T00:00:00",
          "2023-10-26T00:00:00",
          "2023-10-27T00:00:00",
          "2023-10-30T00:00:00",
          "2023-10-31T00:00:00",
          "2023-11-01T00:00:00",
          "2023-11-02T00:00:00",
          "2023-11-03T00:00:00",
          "2023-11-06T00:00:00",
          "2023-11-07T00:00:00",
          "2023-11-08T00:00:00",
          "2023-11-09T00:00:00",
          "2023-11-10T00:00:00",
          "2023-11-13T00:00:00",
          "2023-11-14T00:00:00",
          "2023-11-15T00:00:00",
          "2023-11-16T00:00:00",
          "2023-11-17T00:00:00",
          "2023-11-20T00:00:00",
          "2023-11-21T00:00:00",
          "2023-11-22T00:00:00",
          "2023-11-24T00:00:00",
          "2023-11-27T00:00:00",
          "2023-11-28T00:00:00",
          "2023-11-29T00:00:00",
          "2023-11-30T00:00:00",
          "2023-12-01T00:00:00",
          "2023-12-04T00:00:00",
          "2023-12-05T00:00:00",
          "2023-12-06T00:00:00",
          "2023-12-07T00:00:00",
          "2023-12-08T00:00:00",
          "2023-12-11T00:00:00",
          "2023-12-12T00:00:00",
          "2023-12-13T00:00:00",
          "2023-12-14T00:00:00",
          "2023-12-15T00:00:00",
          "2023-12-18T00:00:00",
          "2023-12-19T00:00:00",
          "2023-12-20T00:00:00",
          "2023-12-21T00:00:00",
          "2023-12-22T00:00:00",
          "2023-12-26T00:00:00",
          "2023-12-27T00:00:00",
          "2023-12-28T00:00:00",
          "2023-12-29T00:00:00"
         ],
         "y": [
          1.0134855635348579,
          1.0058734243034528,
          1.0332576326672263,
          1.0707127308922209,
          1.0641701286971719,
          1.0516940805925443,
          1.0635367503382647,
          1.0906770035516706,
          1.0751421760131514,
          1.0671430379896192,
          0.9653339883982233,
          1.0218165047761145,
          0.9823548383718675,
          0.9619679062568749,
          0.9485619568450018,
          0.9485149163781242,
          0.946691980257329,
          0.9679694841092653,
          0.9262707688330014,
          0.9500687367872802,
          0.9967331722215746,
          1.0086168373145492,
          0.9945548830236149,
          0.9940317310545099,
          1.0219543119818724,
          1.001720843706902,
          1.0045976219065365,
          0.9958584568335356,
          1.0006127527363289,
          0.9960792178398399,
          1.0127776849686325,
          0.9982790101502297,
          0.9923414510155854,
          0.9821045588848117,
          0.9793455138599106,
          0.9531555883497428,
          0.9038640119383933,
          0.9172779045670914,
          0.9308863779915303,
          0.9298764345213778,
          0.9293247473592311,
          0.9337635956253254,
          0.93363117798467,
          0.9259137927030627,
          0.9316562664607964,
          0.9307143250646279,
          0.9213595644035021,
          0.9253961864305067,
          0.9072661110303505,
          0.9144088286641355,
          0.9276891781833203,
          0.9285441765908388,
          0.9458950667175842,
          0.9525784898194284,
          0.9548890673418403,
          0.95657902397211,
          0.9289490091599569,
          0.9468152062141791,
          0.963266954114625,
          0.9621965642992021,
          0.9602497324952097,
          0.9707828753613427,
          0.9668509266854277,
          0.9633157234856047,
          0.9607696960775012,
          0.9816233209911237,
          0.9860308274085172,
          0.9669740595920674,
          0.9778731693691028,
          0.9711678617662334,
          0.9829883441156427,
          0.9841989995012888,
          0.9576695157716658,
          0.966540925453585,
          0.9538012396914585,
          0.9537074933592666,
          0.9779773429611003,
          0.9580317815233963,
          0.9809283573284464,
          0.9692529064915483,
          0.9674448185013294,
          0.965192838922423,
          0.948276529587357,
          0.9489047688990908,
          0.9366763240793348,
          0.9377350093553345,
          0.9374151383086452,
          0.9265446602887172,
          0.9258881664864012,
          0.9189952991026862,
          0.9118762120712481,
          0.8915586188779038,
          0.8885579344583012,
          0.9328850188551778,
          0.9347697260104515,
          0.9331396880975543,
          0.9653024906624964,
          0.9739735257494608,
          0.9756434904428841,
          0.9822656706364179,
          0.9598544515588913,
          0.9645846822514127,
          0.9619337536175268,
          0.953857248611992,
          0.9475901212673773,
          0.9431012143213823,
          0.9499470597504628,
          0.9544086737789486,
          0.967040891801408,
          0.9688970669473861,
          0.9899370386283253,
          0.9908302217773552,
          1.0012152723032062,
          1.0118004426577534,
          1.0069704470326588,
          1.0204636605275517,
          1.0118503939674621,
          1.017371848137004,
          1.0189899898065689,
          0.9733951059529224,
          0.9683459930106418,
          0.9684754805299269,
          0.9834538650780501,
          0.9932665315814325,
          0.974052602706505,
          0.9828855071590644,
          0.977073412667724,
          0.9852351502166247,
          0.9754623503224001,
          0.9754150360588788,
          0.9697328448592265,
          0.9823653977184731,
          0.9640279448336504,
          0.9596869132267313,
          0.9612386478750642,
          0.9505029739942045,
          0.9535737897034227,
          0.9546769409977255,
          0.9448882596217176,
          0.9522806134551409,
          0.9404801378284317,
          0.9403850138673177,
          0.947226105523069,
          0.9535291510636091,
          0.9429826696065249,
          0.9367266699060277,
          0.9427347669998416,
          0.9462435360447683,
          0.9499571602406677,
          0.9537352243993094,
          0.9638100537227079,
          0.9238017174188939,
          0.919997385421197,
          0.886967176021928,
          0.898509237894375,
          0.8994055474748786,
          0.8581966251289235,
          0.875257245605632,
          0.8344239690479002,
          0.8408545922660761,
          0.8392511472618815,
          0.8598145859635234,
          0.8690224451930018,
          0.8591800158427414,
          0.8617143485020947,
          0.848689223961316,
          0.8529738476767337,
          0.8352559853116271,
          0.840448317230732,
          0.8559342892712499,
          0.8616397538250405,
          0.8448409764690404,
          0.8314004762524745,
          0.8289278993662751,
          0.8439841628411904,
          0.8479898475908244,
          0.8316140222063654,
          0.8453753197634237,
          0.8642086710330853,
          0.8612408069239856,
          0.8703871857206117,
          0.8751541673099898,
          0.878537091067466,
          0.88339297221152,
          0.8782675588648892,
          0.8777295909603142,
          0.8773366603402806,
          0.8755233366890955,
          0.8754229772694935,
          0.8769808564151513,
          0.8833548879743828,
          0.8727955351380932,
          0.8727416095930761,
          0.8714053446603508,
          0.8802620036288069,
          0.8809014944249526,
          0.8763691243832996,
          0.8736603748148294,
          0.8761374064661269,
          0.8795450084696755,
          0.8689761728223828,
          0.8594865660682579,
          0.8326805954189874,
          0.8329252446856601,
          0.8250962216866778,
          0.8200891362944739,
          0.8259726032814555,
          0.8266957929050591,
          0.8274843507994829,
          0.8294845635005,
          0.8431653928474805,
          0.8368347739005145,
          0.8115963450220233,
          0.8077155773538883,
          0.8119874566110918,
          0.807388137709653,
          0.8164769600246792,
          0.8111040195669034,
          0.7956105611815109,
          0.8042247253820566,
          0.8065982446739005,
          0.8096641297948196,
          0.8149844035683251,
          0.8160095314258404,
          0.8140524868617659,
          0.8184668318931054,
          0.8183518657428531,
          0.8226571075654054,
          0.8250735279602206,
          0.8232232267906645,
          0.8205808339333707,
          0.830990567048046,
          0.8292729893592093,
          0.8387098952209596,
          0.8323895343036622,
          0.8317782275161045,
          0.8321298687108549,
          0.8429341871332064,
          0.8316622006298173,
          0.833875535959145,
          0.8305345435949931,
          0.8288049412629143,
          0.8390496915533336,
          0.8547368752567847,
          0.8470166833353817,
          0.8414422713699428,
          0.8384129183104818,
          0.8356734372053879,
          0.8570336321515469,
          0.85445782938678,
          0.8552558660409972,
          0.8566442323216895,
          0.8522994088108181,
          0.8635910642241325,
          0.865580967728807,
          0.8648894859423771,
          0.873161549927446,
          0.8697827774741036,
          0.9049941015046514,
          0.8975202237213166,
          0.8964336245532781,
          0.9051932965158891,
          0.905355366369815,
          0.8912470578241233,
          0.8906346345628181,
          0.9081511306134011,
          0.8916958206425416,
          0.89193446685342,
          0.9038735284994691,
          0.8689467796927158,
          0.8875869306459548,
          0.8864050473441307,
          0.8739441163488715,
          0.8737689794527126,
          0.8667211708487131,
          0.8828811124569751,
          0.877000768228662,
          0.8875745377825075,
          0.8862772920870549,
          0.881452546772128,
          0.8864724593512949,
          0.8965274538399113,
          0.9000255877871468,
          0.9121793190960599,
          0.906791455492536,
          0.8948483769411589,
          0.8810519492667899,
          0.8737220488474141,
          0.8895056703956168,
          0.8909967852410015,
          0.9109404278485066,
          0.9127620251987039,
          0.943216296338956,
          0.9777750451131855,
          0.9798631575532902,
          0.9695137456535355
         ]
        },
        {
         "mode": "lines",
         "name": "Naive Allocation",
         "type": "scatter",
         "x": [
          "2022-10-26T00:00:00",
          "2022-10-27T00:00:00",
          "2022-10-28T00:00:00",
          "2022-10-31T00:00:00",
          "2022-11-01T00:00:00",
          "2022-11-02T00:00:00",
          "2022-11-03T00:00:00",
          "2022-11-04T00:00:00",
          "2022-11-07T00:00:00",
          "2022-11-08T00:00:00",
          "2022-11-09T00:00:00",
          "2022-11-10T00:00:00",
          "2022-11-11T00:00:00",
          "2022-11-14T00:00:00",
          "2022-11-15T00:00:00",
          "2022-11-16T00:00:00",
          "2022-11-17T00:00:00",
          "2022-11-18T00:00:00",
          "2022-11-21T00:00:00",
          "2022-11-22T00:00:00",
          "2022-11-23T00:00:00",
          "2022-11-25T00:00:00",
          "2022-11-28T00:00:00",
          "2022-11-29T00:00:00",
          "2022-11-30T00:00:00",
          "2022-12-01T00:00:00",
          "2022-12-02T00:00:00",
          "2022-12-05T00:00:00",
          "2022-12-06T00:00:00",
          "2022-12-07T00:00:00",
          "2022-12-08T00:00:00",
          "2022-12-09T00:00:00",
          "2022-12-12T00:00:00",
          "2022-12-13T00:00:00",
          "2022-12-14T00:00:00",
          "2022-12-15T00:00:00",
          "2022-12-16T00:00:00",
          "2022-12-19T00:00:00",
          "2022-12-20T00:00:00",
          "2022-12-21T00:00:00",
          "2022-12-22T00:00:00",
          "2022-12-23T00:00:00",
          "2022-12-27T00:00:00",
          "2022-12-28T00:00:00",
          "2022-12-29T00:00:00",
          "2022-12-30T00:00:00",
          "2023-01-03T00:00:00",
          "2023-01-04T00:00:00",
          "2023-01-05T00:00:00",
          "2023-01-06T00:00:00",
          "2023-01-09T00:00:00",
          "2023-01-10T00:00:00",
          "2023-01-11T00:00:00",
          "2023-01-12T00:00:00",
          "2023-01-13T00:00:00",
          "2023-01-17T00:00:00",
          "2023-01-18T00:00:00",
          "2023-01-19T00:00:00",
          "2023-01-20T00:00:00",
          "2023-01-23T00:00:00",
          "2023-01-24T00:00:00",
          "2023-01-25T00:00:00",
          "2023-01-26T00:00:00",
          "2023-01-27T00:00:00",
          "2023-01-30T00:00:00",
          "2023-01-31T00:00:00",
          "2023-02-01T00:00:00",
          "2023-02-02T00:00:00",
          "2023-02-03T00:00:00",
          "2023-02-06T00:00:00",
          "2023-02-07T00:00:00",
          "2023-02-08T00:00:00",
          "2023-02-09T00:00:00",
          "2023-02-10T00:00:00",
          "2023-02-13T00:00:00",
          "2023-02-14T00:00:00",
          "2023-02-15T00:00:00",
          "2023-02-16T00:00:00",
          "2023-02-17T00:00:00",
          "2023-02-21T00:00:00",
          "2023-02-22T00:00:00",
          "2023-02-23T00:00:00",
          "2023-02-24T00:00:00",
          "2023-02-27T00:00:00",
          "2023-02-28T00:00:00",
          "2023-03-01T00:00:00",
          "2023-03-02T00:00:00",
          "2023-03-03T00:00:00",
          "2023-03-06T00:00:00",
          "2023-03-07T00:00:00",
          "2023-03-08T00:00:00",
          "2023-03-09T00:00:00",
          "2023-03-10T00:00:00",
          "2023-03-13T00:00:00",
          "2023-03-14T00:00:00",
          "2023-03-15T00:00:00",
          "2023-03-16T00:00:00",
          "2023-03-17T00:00:00",
          "2023-03-20T00:00:00",
          "2023-03-21T00:00:00",
          "2023-03-22T00:00:00",
          "2023-03-23T00:00:00",
          "2023-03-24T00:00:00",
          "2023-03-27T00:00:00",
          "2023-03-28T00:00:00",
          "2023-03-29T00:00:00",
          "2023-03-30T00:00:00",
          "2023-03-31T00:00:00",
          "2023-04-03T00:00:00",
          "2023-04-04T00:00:00",
          "2023-04-05T00:00:00",
          "2023-04-06T00:00:00",
          "2023-04-10T00:00:00",
          "2023-04-11T00:00:00",
          "2023-04-12T00:00:00",
          "2023-04-13T00:00:00",
          "2023-04-14T00:00:00",
          "2023-04-17T00:00:00",
          "2023-04-18T00:00:00",
          "2023-04-19T00:00:00",
          "2023-04-20T00:00:00",
          "2023-04-21T00:00:00",
          "2023-04-24T00:00:00",
          "2023-04-25T00:00:00",
          "2023-04-26T00:00:00",
          "2023-04-27T00:00:00",
          "2023-04-28T00:00:00",
          "2023-05-01T00:00:00",
          "2023-05-02T00:00:00",
          "2023-05-03T00:00:00",
          "2023-05-04T00:00:00",
          "2023-05-05T00:00:00",
          "2023-05-08T00:00:00",
          "2023-05-09T00:00:00",
          "2023-05-10T00:00:00",
          "2023-05-11T00:00:00",
          "2023-05-12T00:00:00",
          "2023-05-15T00:00:00",
          "2023-05-16T00:00:00",
          "2023-05-17T00:00:00",
          "2023-05-18T00:00:00",
          "2023-05-19T00:00:00",
          "2023-05-22T00:00:00",
          "2023-05-23T00:00:00",
          "2023-05-24T00:00:00",
          "2023-05-25T00:00:00",
          "2023-05-26T00:00:00",
          "2023-05-30T00:00:00",
          "2023-05-31T00:00:00",
          "2023-06-01T00:00:00",
          "2023-06-02T00:00:00",
          "2023-06-05T00:00:00",
          "2023-06-06T00:00:00",
          "2023-06-07T00:00:00",
          "2023-06-08T00:00:00",
          "2023-06-09T00:00:00",
          "2023-06-12T00:00:00",
          "2023-06-13T00:00:00",
          "2023-06-14T00:00:00",
          "2023-06-15T00:00:00",
          "2023-06-16T00:00:00",
          "2023-06-20T00:00:00",
          "2023-06-21T00:00:00",
          "2023-06-22T00:00:00",
          "2023-06-23T00:00:00",
          "2023-06-26T00:00:00",
          "2023-06-27T00:00:00",
          "2023-06-28T00:00:00",
          "2023-06-29T00:00:00",
          "2023-06-30T00:00:00",
          "2023-07-03T00:00:00",
          "2023-07-05T00:00:00",
          "2023-07-06T00:00:00",
          "2023-07-07T00:00:00",
          "2023-07-10T00:00:00",
          "2023-07-11T00:00:00",
          "2023-07-12T00:00:00",
          "2023-07-13T00:00:00",
          "2023-07-14T00:00:00",
          "2023-07-17T00:00:00",
          "2023-07-18T00:00:00",
          "2023-07-19T00:00:00",
          "2023-07-20T00:00:00",
          "2023-07-21T00:00:00",
          "2023-07-24T00:00:00",
          "2023-07-25T00:00:00",
          "2023-07-26T00:00:00",
          "2023-07-27T00:00:00",
          "2023-07-28T00:00:00",
          "2023-07-31T00:00:00",
          "2023-08-01T00:00:00",
          "2023-08-02T00:00:00",
          "2023-08-03T00:00:00",
          "2023-08-04T00:00:00",
          "2023-08-07T00:00:00",
          "2023-08-08T00:00:00",
          "2023-08-09T00:00:00",
          "2023-08-10T00:00:00",
          "2023-08-11T00:00:00",
          "2023-08-14T00:00:00",
          "2023-08-15T00:00:00",
          "2023-08-16T00:00:00",
          "2023-08-17T00:00:00",
          "2023-08-18T00:00:00",
          "2023-08-21T00:00:00",
          "2023-08-22T00:00:00",
          "2023-08-23T00:00:00",
          "2023-08-24T00:00:00",
          "2023-08-25T00:00:00",
          "2023-08-28T00:00:00",
          "2023-08-29T00:00:00",
          "2023-08-30T00:00:00",
          "2023-08-31T00:00:00",
          "2023-09-01T00:00:00",
          "2023-09-05T00:00:00",
          "2023-09-06T00:00:00",
          "2023-09-07T00:00:00",
          "2023-09-08T00:00:00",
          "2023-09-11T00:00:00",
          "2023-09-12T00:00:00",
          "2023-09-13T00:00:00",
          "2023-09-14T00:00:00",
          "2023-09-15T00:00:00",
          "2023-09-18T00:00:00",
          "2023-09-19T00:00:00",
          "2023-09-20T00:00:00",
          "2023-09-21T00:00:00",
          "2023-09-22T00:00:00",
          "2023-09-25T00:00:00",
          "2023-09-26T00:00:00",
          "2023-09-27T00:00:00",
          "2023-09-28T00:00:00",
          "2023-09-29T00:00:00",
          "2023-10-02T00:00:00",
          "2023-10-03T00:00:00",
          "2023-10-04T00:00:00",
          "2023-10-05T00:00:00",
          "2023-10-06T00:00:00",
          "2023-10-09T00:00:00",
          "2023-10-10T00:00:00",
          "2023-10-11T00:00:00",
          "2023-10-12T00:00:00",
          "2023-10-13T00:00:00",
          "2023-10-16T00:00:00",
          "2023-10-17T00:00:00",
          "2023-10-18T00:00:00",
          "2023-10-19T00:00:00",
          "2023-10-20T00:00:00",
          "2023-10-23T00:00:00",
          "2023-10-24T00:00:00",
          "2023-10-25T00:00:00",
          "2023-10-26T00:00:00",
          "2023-10-27T00:00:00",
          "2023-10-30T00:00:00",
          "2023-10-31T00:00:00",
          "2023-11-01T00:00:00",
          "2023-11-02T00:00:00",
          "2023-11-03T00:00:00",
          "2023-11-06T00:00:00",
          "2023-11-07T00:00:00",
          "2023-11-08T00:00:00",
          "2023-11-09T00:00:00",
          "2023-11-10T00:00:00",
          "2023-11-13T00:00:00",
          "2023-11-14T00:00:00",
          "2023-11-15T00:00:00",
          "2023-11-16T00:00:00",
          "2023-11-17T00:00:00",
          "2023-11-20T00:00:00",
          "2023-11-21T00:00:00",
          "2023-11-22T00:00:00",
          "2023-11-24T00:00:00",
          "2023-11-27T00:00:00",
          "2023-11-28T00:00:00",
          "2023-11-29T00:00:00",
          "2023-11-30T00:00:00",
          "2023-12-01T00:00:00",
          "2023-12-04T00:00:00",
          "2023-12-05T00:00:00",
          "2023-12-06T00:00:00",
          "2023-12-07T00:00:00",
          "2023-12-08T00:00:00",
          "2023-12-11T00:00:00",
          "2023-12-12T00:00:00",
          "2023-12-13T00:00:00",
          "2023-12-14T00:00:00",
          "2023-12-15T00:00:00",
          "2023-12-18T00:00:00",
          "2023-12-19T00:00:00",
          "2023-12-20T00:00:00",
          "2023-12-21T00:00:00",
          "2023-12-22T00:00:00",
          "2023-12-26T00:00:00",
          "2023-12-27T00:00:00",
          "2023-12-28T00:00:00",
          "2023-12-29T00:00:00"
         ],
         "y": [
          1.0127654095272207,
          1.003316826000326,
          1.0186396875319461,
          1.023068164201117,
          1.0215054779607449,
          1.0036272288977912,
          1.002750302607245,
          1.028761877517013,
          1.0220235243530407,
          1.002135529999962,
          0.9510154654437601,
          1.0052547481931515,
          1.0074007951205692,
          0.9958234777334548,
          1.0011386590304985,
          0.9960927468067203,
          0.9929035664536285,
          0.9998994109025869,
          0.9808563558188472,
          0.9970543951219348,
          1.0135966756752204,
          1.0163893299279005,
          1.006546814970255,
          1.01045327701212,
          1.0348397773617772,
          1.0309812798814029,
          1.0311327017691063,
          1.012939458902276,
          1.0074483935294167,
          1.0031850782656266,
          1.0176696067858388,
          1.0083951102376967,
          1.0176734426499783,
          1.0245584592320862,
          1.021721280760098,
          0.9965343291276803,
          0.9698153905369303,
          0.9676633528609436,
          0.9778637294979653,
          0.9908956960521691,
          0.984573102282928,
          0.9880640135384217,
          0.9859531644116593,
          0.9761139681981492,
          0.98535076584439,
          0.9845076725001277,
          0.9901559430397665,
          0.9964767785321627,
          0.9876812927980846,
          1.0043377069413537,
          1.009064603307652,
          1.0146043289017577,
          1.0318857898078586,
          1.0384682672107082,
          1.0514413134251375,
          1.0506131485860555,
          1.0276613828493786,
          1.0291543373633443,
          1.0475176710503091,
          1.0537840550881694,
          1.048324207307576,
          1.055869597114871,
          1.0539595395318604,
          1.0545149008113897,
          1.0484439397060605,
          1.0616956095802519,
          1.0712700642011412,
          1.0723257740793495,
          1.0676172707522456,
          1.0584196406475745,
          1.065103765138851,
          1.0584411154639817,
          1.039473934777393,
          1.0427022601966747,
          1.0502096106120515,
          1.0517214702917468,
          1.070931361025966,
          1.0537504007426128,
          1.06482423314726,
          1.0500695761909173,
          1.045909900670723,
          1.0468287961737306,
          1.036320463178946,
          1.0376335686789766,
          1.0298937639676589,
          1.0274215205163404,
          1.0292584624697274,
          1.0290628059149574,
          1.0289231090803468,
          1.0174465975040992,
          1.0130698546023336,
          0.9875742622524857,
          0.9803912530665501,
          1.0120447565261637,
          1.0212682224785605,
          1.0122450199874187,
          1.03013784222452,
          1.0363243985170953,
          1.0420038090144925,
          1.0557696739740965,
          1.0353718219157202,
          1.04346854299628,
          1.0390725887097922,
          1.041919875260598,
          1.0425987501410294,
          1.052273149349766,
          1.054166471701963,
          1.0668800658972335,
          1.067875378878711,
          1.0703148996650091,
          1.0752607147233413,
          1.074421290364523,
          1.0830319062622904,
          1.085396386504733,
          1.0824413558704762,
          1.0966933564087509,
          1.104820764036415,
          1.1049994441001565,
          1.1081570458124574,
          1.089543144458053,
          1.0856151357368062,
          1.0840123985418773,
          1.0883850246290792,
          1.0840517928083453,
          1.0780332503106307,
          1.092979896622363,
          1.0892880020340718,
          1.0851630360334734,
          1.0828134480876057,
          1.0793768726010549,
          1.071998680313358,
          1.0899354478900927,
          1.0763842506544825,
          1.0724803430606151,
          1.0748268093604856,
          1.0684393380575428,
          1.0663351217186399,
          1.068661426307694,
          1.0639490247709404,
          1.0743248329811392,
          1.0754678224331917,
          1.0718887029851456,
          1.0685324465549373,
          1.069259974905678,
          1.0573720022137345,
          1.058840312474499,
          1.0681170878870454,
          1.0741516130088775,
          1.0704595196126316,
          1.0702753243071286,
          1.0866607036178957,
          1.0689947406410614,
          1.0777146986696546,
          1.0666202390681736,
          1.0742433450765292,
          1.0760480026437602,
          1.0712308201022418,
          1.0787412359566715,
          1.0710037217558437,
          1.0806849501909177,
          1.0834173542467493,
          1.086648203125301,
          1.0935206014094232,
          1.0892755205417317,
          1.0861189896369667,
          1.0780191142614695,
          1.0838296831891054,
          1.0735798707548816,
          1.0817429038545319,
          1.0920947096400773,
          1.0963427320210437,
          1.0856386952893715,
          1.0694070197365233,
          1.0690761382167837,
          1.0740431172587919,
          1.0820454147294987,
          1.0814391835772592,
          1.0976400275978988,
          1.0976252579237193,
          1.096611635672344,
          1.1015528653828495,
          1.1054268042473738,
          1.1070665891541818,
          1.1122841172426892,
          1.110762981439298,
          1.1085902274739696,
          1.111098822933817,
          1.1068622507768584,
          1.1113124420364286,
          1.1143069897611726,
          1.114489056812079,
          1.1021439207194785,
          1.1026314321250867,
          1.1061938042168205,
          1.1167623562718982,
          1.1149247942283662,
          1.1080236576778766,
          1.1059800055868512,
          1.107163344166096,
          1.1082703416327113,
          1.0978857349582185,
          1.0892677314546557,
          1.0695908235663842,
          1.0687485171408209,
          1.0665858007386915,
          1.0588162188721333,
          1.065882412656468,
          1.0561521742242674,
          1.0615150267727764,
          1.0654286159931639,
          1.084426533664669,
          1.081093452330025,
          1.0678999206428883,
          1.0672015388465936,
          1.0645863224088272,
          1.0606349106705903,
          1.0641745190361898,
          1.0633102949202389,
          1.0567170189577635,
          1.051396266192376,
          1.0582657955215216,
          1.067581710418111,
          1.064227491798214,
          1.0618224066521287,
          1.0622945154528582,
          1.0601636630094258,
          1.0419157850102871,
          1.0406581327220263,
          1.0409453341145092,
          1.0294683886413127,
          1.0270073399745379,
          1.0356006138916574,
          1.0396045131829603,
          1.0430995213866388,
          1.0322947204131603,
          1.037889070119483,
          1.0320174293427546,
          1.041404749536367,
          1.034543624951062,
          1.038261975238725,
          1.0384870561292603,
          1.0336801951614285,
          1.0334530208879513,
          1.0520360039532053,
          1.0481261850662955,
          1.0394674232273895,
          1.0374780156199015,
          1.0313118448138616,
          1.0523347340314153,
          1.059952300449531,
          1.0540847339329098,
          1.053553267896655,
          1.0469372636317273,
          1.0646548790500077,
          1.0710116417895768,
          1.078176426738264,
          1.086551549787912,
          1.0946779053360083,
          1.1082954822772169,
          1.1106348250377454,
          1.1115161526245736,
          1.1182372767370399,
          1.1240653186541507,
          1.1163483857193217,
          1.1219852164804178,
          1.1377268176944835,
          1.1194035200647272,
          1.1225390474072003,
          1.1328554245920182,
          1.116104388436901,
          1.1329719311970055,
          1.135107791647503,
          1.1293618431446335,
          1.132012638287777,
          1.1317489447353104,
          1.1390176760527606,
          1.1443040174144676,
          1.159719293647213,
          1.164343526685699,
          1.1546750956034815,
          1.1605185338510127,
          1.1688094608701507,
          1.1637039962583686,
          1.1588344442379828,
          1.1657533854348492,
          1.164872602708519,
          1.160937791845597,
          1.1665379941423901,
          1.1748125348650382,
          1.1689879617034202,
          1.182712575560561,
          1.1781946064937245,
          1.180972514492863,
          1.1976458938671746,
          1.1983342932321408,
          1.1914129667720912
         ]
        }
       ],
       "layout": {
        "height": 500,
        "template": {
         "data": {
          "bar": [
           {
            "error_x": {
             "color": "#2a3f5f"
            },
            "error_y": {
             "color": "#2a3f5f"
            },
            "marker": {
             "line": {
              "color": "#E5ECF6",
              "width": 0.5
             },
             "pattern": {
              "fillmode": "overlay",
              "size": 10,
              "solidity": 0.2
             }
            },
            "type": "bar"
           }
          ],
          "barpolar": [
           {
            "marker": {
             "line": {
              "color": "#E5ECF6",
              "width": 0.5
             },
             "pattern": {
              "fillmode": "overlay",
              "size": 10,
              "solidity": 0.2
             }
            },
            "type": "barpolar"
           }
          ],
          "carpet": [
           {
            "aaxis": {
             "endlinecolor": "#2a3f5f",
             "gridcolor": "white",
             "linecolor": "white",
             "minorgridcolor": "white",
             "startlinecolor": "#2a3f5f"
            },
            "baxis": {
             "endlinecolor": "#2a3f5f",
             "gridcolor": "white",
             "linecolor": "white",
             "minorgridcolor": "white",
             "startlinecolor": "#2a3f5f"
            },
            "type": "carpet"
           }
          ],
          "choropleth": [
           {
            "colorbar": {
             "outlinewidth": 0,
             "ticks": ""
            },
            "type": "choropleth"
           }
          ],
          "contour": [
           {
            "colorbar": {
             "outlinewidth": 0,
             "ticks": ""
            },
            "colorscale": [
             [
              0,
              "#0d0887"
             ],
             [
              0.1111111111111111,
              "#46039f"
             ],
             [
              0.2222222222222222,
              "#7201a8"
             ],
             [
              0.3333333333333333,
              "#9c179e"
             ],
             [
              0.4444444444444444,
              "#bd3786"
             ],
             [
              0.5555555555555556,
              "#d8576b"
             ],
             [
              0.6666666666666666,
              "#ed7953"
             ],
             [
              0.7777777777777778,
              "#fb9f3a"
             ],
             [
              0.8888888888888888,
              "#fdca26"
             ],
             [
              1,
              "#f0f921"
             ]
            ],
            "type": "contour"
           }
          ],
          "contourcarpet": [
           {
            "colorbar": {
             "outlinewidth": 0,
             "ticks": ""
            },
            "type": "contourcarpet"
           }
          ],
          "heatmap": [
           {
            "colorbar": {
             "outlinewidth": 0,
             "ticks": ""
            },
            "colorscale": [
             [
              0,
              "#0d0887"
             ],
             [
              0.1111111111111111,
              "#46039f"
             ],
             [
              0.2222222222222222,
              "#7201a8"
             ],
             [
              0.3333333333333333,
              "#9c179e"
             ],
             [
              0.4444444444444444,
              "#bd3786"
             ],
             [
              0.5555555555555556,
              "#d8576b"
             ],
             [
              0.6666666666666666,
              "#ed7953"
             ],
             [
              0.7777777777777778,
              "#fb9f3a"
             ],
             [
              0.8888888888888888,
              "#fdca26"
             ],
             [
              1,
              "#f0f921"
             ]
            ],
            "type": "heatmap"
           }
          ],
          "heatmapgl": [
           {
            "colorbar": {
             "outlinewidth": 0,
             "ticks": ""
            },
            "colorscale": [
             [
              0,
              "#0d0887"
             ],
             [
              0.1111111111111111,
              "#46039f"
             ],
             [
              0.2222222222222222,
              "#7201a8"
             ],
             [
              0.3333333333333333,
              "#9c179e"
             ],
             [
              0.4444444444444444,
              "#bd3786"
             ],
             [
              0.5555555555555556,
              "#d8576b"
             ],
             [
              0.6666666666666666,
              "#ed7953"
             ],
             [
              0.7777777777777778,
              "#fb9f3a"
             ],
             [
              0.8888888888888888,
              "#fdca26"
             ],
             [
              1,
              "#f0f921"
             ]
            ],
            "type": "heatmapgl"
           }
          ],
          "histogram": [
           {
            "marker": {
             "pattern": {
              "fillmode": "overlay",
              "size": 10,
              "solidity": 0.2
             }
            },
            "type": "histogram"
           }
          ],
          "histogram2d": [
           {
            "colorbar": {
             "outlinewidth": 0,
             "ticks": ""
            },
            "colorscale": [
             [
              0,
              "#0d0887"
             ],
             [
              0.1111111111111111,
              "#46039f"
             ],
             [
              0.2222222222222222,
              "#7201a8"
             ],
             [
              0.3333333333333333,
              "#9c179e"
             ],
             [
              0.4444444444444444,
              "#bd3786"
             ],
             [
              0.5555555555555556,
              "#d8576b"
             ],
             [
              0.6666666666666666,
              "#ed7953"
             ],
             [
              0.7777777777777778,
              "#fb9f3a"
             ],
             [
              0.8888888888888888,
              "#fdca26"
             ],
             [
              1,
              "#f0f921"
             ]
            ],
            "type": "histogram2d"
           }
          ],
          "histogram2dcontour": [
           {
            "colorbar": {
             "outlinewidth": 0,
             "ticks": ""
            },
            "colorscale": [
             [
              0,
              "#0d0887"
             ],
             [
              0.1111111111111111,
              "#46039f"
             ],
             [
              0.2222222222222222,
              "#7201a8"
             ],
             [
              0.3333333333333333,
              "#9c179e"
             ],
             [
              0.4444444444444444,
              "#bd3786"
             ],
             [
              0.5555555555555556,
              "#d8576b"
             ],
             [
              0.6666666666666666,
              "#ed7953"
             ],
             [
              0.7777777777777778,
              "#fb9f3a"
             ],
             [
              0.8888888888888888,
              "#fdca26"
             ],
             [
              1,
              "#f0f921"
             ]
            ],
            "type": "histogram2dcontour"
           }
          ],
          "mesh3d": [
           {
            "colorbar": {
             "outlinewidth": 0,
             "ticks": ""
            },
            "type": "mesh3d"
           }
          ],
          "parcoords": [
           {
            "line": {
             "colorbar": {
              "outlinewidth": 0,
              "ticks": ""
             }
            },
            "type": "parcoords"
           }
          ],
          "pie": [
           {
            "automargin": true,
            "type": "pie"
           }
          ],
          "scatter": [
           {
            "fillpattern": {
             "fillmode": "overlay",
             "size": 10,
             "solidity": 0.2
            },
            "type": "scatter"
           }
          ],
          "scatter3d": [
           {
            "line": {
             "colorbar": {
              "outlinewidth": 0,
              "ticks": ""
             }
            },
            "marker": {
             "colorbar": {
              "outlinewidth": 0,
              "ticks": ""
             }
            },
            "type": "scatter3d"
           }
          ],
          "scattercarpet": [
           {
            "marker": {
             "colorbar": {
              "outlinewidth": 0,
              "ticks": ""
             }
            },
            "type": "scattercarpet"
           }
          ],
          "scattergeo": [
           {
            "marker": {
             "colorbar": {
              "outlinewidth": 0,
              "ticks": ""
             }
            },
            "type": "scattergeo"
           }
          ],
          "scattergl": [
           {
            "marker": {
             "colorbar": {
              "outlinewidth": 0,
              "ticks": ""
             }
            },
            "type": "scattergl"
           }
          ],
          "scattermapbox": [
           {
            "marker": {
             "colorbar": {
              "outlinewidth": 0,
              "ticks": ""
             }
            },
            "type": "scattermapbox"
           }
          ],
          "scatterpolar": [
           {
            "marker": {
             "colorbar": {
              "outlinewidth": 0,
              "ticks": ""
             }
            },
            "type": "scatterpolar"
           }
          ],
          "scatterpolargl": [
           {
            "marker": {
             "colorbar": {
              "outlinewidth": 0,
              "ticks": ""
             }
            },
            "type": "scatterpolargl"
           }
          ],
          "scatterternary": [
           {
            "marker": {
             "colorbar": {
              "outlinewidth": 0,
              "ticks": ""
             }
            },
            "type": "scatterternary"
           }
          ],
          "surface": [
           {
            "colorbar": {
             "outlinewidth": 0,
             "ticks": ""
            },
            "colorscale": [
             [
              0,
              "#0d0887"
             ],
             [
              0.1111111111111111,
              "#46039f"
             ],
             [
              0.2222222222222222,
              "#7201a8"
             ],
             [
              0.3333333333333333,
              "#9c179e"
             ],
             [
              0.4444444444444444,
              "#bd3786"
             ],
             [
              0.5555555555555556,
              "#d8576b"
             ],
             [
              0.6666666666666666,
              "#ed7953"
             ],
             [
              0.7777777777777778,
              "#fb9f3a"
             ],
             [
              0.8888888888888888,
              "#fdca26"
             ],
             [
              1,
              "#f0f921"
             ]
            ],
            "type": "surface"
           }
          ],
          "table": [
           {
            "cells": {
             "fill": {
              "color": "#EBF0F8"
             },
             "line": {
              "color": "white"
             }
            },
            "header": {
             "fill": {
              "color": "#C8D4E3"
             },
             "line": {
              "color": "white"
             }
            },
            "type": "table"
           }
          ]
         },
         "layout": {
          "annotationdefaults": {
           "arrowcolor": "#2a3f5f",
           "arrowhead": 0,
           "arrowwidth": 1
          },
          "autotypenumbers": "strict",
          "coloraxis": {
           "colorbar": {
            "outlinewidth": 0,
            "ticks": ""
           }
          },
          "colorscale": {
           "diverging": [
            [
             0,
             "#8e0152"
            ],
            [
             0.1,
             "#c51b7d"
            ],
            [
             0.2,
             "#de77ae"
            ],
            [
             0.3,
             "#f1b6da"
            ],
            [
             0.4,
             "#fde0ef"
            ],
            [
             0.5,
             "#f7f7f7"
            ],
            [
             0.6,
             "#e6f5d0"
            ],
            [
             0.7,
             "#b8e186"
            ],
            [
             0.8,
             "#7fbc41"
            ],
            [
             0.9,
             "#4d9221"
            ],
            [
             1,
             "#276419"
            ]
           ],
           "sequential": [
            [
             0,
             "#0d0887"
            ],
            [
             0.1111111111111111,
             "#46039f"
            ],
            [
             0.2222222222222222,
             "#7201a8"
            ],
            [
             0.3333333333333333,
             "#9c179e"
            ],
            [
             0.4444444444444444,
             "#bd3786"
            ],
            [
             0.5555555555555556,
             "#d8576b"
            ],
            [
             0.6666666666666666,
             "#ed7953"
            ],
            [
             0.7777777777777778,
             "#fb9f3a"
            ],
            [
             0.8888888888888888,
             "#fdca26"
            ],
            [
             1,
             "#f0f921"
            ]
           ],
           "sequentialminus": [
            [
             0,
             "#0d0887"
            ],
            [
             0.1111111111111111,
             "#46039f"
            ],
            [
             0.2222222222222222,
             "#7201a8"
            ],
            [
             0.3333333333333333,
             "#9c179e"
            ],
            [
             0.4444444444444444,
             "#bd3786"
            ],
            [
             0.5555555555555556,
             "#d8576b"
            ],
            [
             0.6666666666666666,
             "#ed7953"
            ],
            [
             0.7777777777777778,
             "#fb9f3a"
            ],
            [
             0.8888888888888888,
             "#fdca26"
            ],
            [
             1,
             "#f0f921"
            ]
           ]
          },
          "colorway": [
           "#636efa",
           "#EF553B",
           "#00cc96",
           "#ab63fa",
           "#FFA15A",
           "#19d3f3",
           "#FF6692",
           "#B6E880",
           "#FF97FF",
           "#FECB52"
          ],
          "font": {
           "color": "#2a3f5f"
          },
          "geo": {
           "bgcolor": "white",
           "lakecolor": "white",
           "landcolor": "#E5ECF6",
           "showlakes": true,
           "showland": true,
           "subunitcolor": "white"
          },
          "hoverlabel": {
           "align": "left"
          },
          "hovermode": "closest",
          "mapbox": {
           "style": "light"
          },
          "paper_bgcolor": "white",
          "plot_bgcolor": "#E5ECF6",
          "polar": {
           "angularaxis": {
            "gridcolor": "white",
            "linecolor": "white",
            "ticks": ""
           },
           "bgcolor": "#E5ECF6",
           "radialaxis": {
            "gridcolor": "white",
            "linecolor": "white",
            "ticks": ""
           }
          },
          "scene": {
           "xaxis": {
            "backgroundcolor": "#E5ECF6",
            "gridcolor": "white",
            "gridwidth": 2,
            "linecolor": "white",
            "showbackground": true,
            "ticks": "",
            "zerolinecolor": "white"
           },
           "yaxis": {
            "backgroundcolor": "#E5ECF6",
            "gridcolor": "white",
            "gridwidth": 2,
            "linecolor": "white",
            "showbackground": true,
            "ticks": "",
            "zerolinecolor": "white"
           },
           "zaxis": {
            "backgroundcolor": "#E5ECF6",
            "gridcolor": "white",
            "gridwidth": 2,
            "linecolor": "white",
            "showbackground": true,
            "ticks": "",
            "zerolinecolor": "white"
           }
          },
          "shapedefaults": {
           "line": {
            "color": "#2a3f5f"
           }
          },
          "ternary": {
           "aaxis": {
            "gridcolor": "white",
            "linecolor": "white",
            "ticks": ""
           },
           "baxis": {
            "gridcolor": "white",
            "linecolor": "white",
            "ticks": ""
           },
           "bgcolor": "#E5ECF6",
           "caxis": {
            "gridcolor": "white",
            "linecolor": "white",
            "ticks": ""
           }
          },
          "title": {
           "x": 0.05
          },
          "xaxis": {
           "automargin": true,
           "gridcolor": "white",
           "linecolor": "white",
           "ticks": "",
           "title": {
            "standoff": 15
           },
           "zerolinecolor": "white",
           "zerolinewidth": 2
          },
          "yaxis": {
           "automargin": true,
           "gridcolor": "white",
           "linecolor": "white",
           "ticks": "",
           "title": {
            "standoff": 15
           },
           "zerolinecolor": "white",
           "zerolinewidth": 2
          }
         }
        },
        "title": {
         "text": "Portfolio Returns"
        },
        "width": 1000,
        "yaxis": {
         "title": {
          "text": "Cumulative Daily Return"
         }
        }
       }
      }
     },
     "metadata": {},
     "output_type": "display_data"
    }
   ],
   "source": [
    "fig = go.Figure()\n",
    "\n",
    "# Adicionando a linha do portfólio\n",
    "fig.add_trace(go.Scatter(x=daily_cumulative_returns.index, y=daily_cumulative_returns['Historical Portfolio'], mode='lines', name='Historical Allocation'))\n",
    "\n",
    "# Adicionando a primeira linha adicional\n",
    "fig.add_trace(go.Scatter(x=daily_cumulative_returns.index, y=daily_cumulative_returns['Naive Portfolio'], mode='lines', name='Naive Allocation'))\n",
    "\n",
    "fig.update_layout(title='Portfolio Returns',\n",
    "                  yaxis_title='Cumulative Daily Return',\n",
    "                  width=1000,\n",
    "                  height=500)\n",
    "\n",
    "# Exibindo o gráfico\n",
    "fig.show()"
   ]
  },
  {
   "cell_type": "markdown",
   "metadata": {},
   "source": [
    "References\n",
    "* https://www.youtube.com/watch?v=xpUpwEsMV9Y"
   ]
  }
 ],
 "metadata": {
  "kernelspec": {
   "display_name": "Python 3",
   "language": "python",
   "name": "python3"
  },
  "language_info": {
   "codemirror_mode": {
    "name": "ipython",
    "version": 3
   },
   "file_extension": ".py",
   "mimetype": "text/x-python",
   "name": "python",
   "nbconvert_exporter": "python",
   "pygments_lexer": "ipython3",
   "version": "3.12.2"
  }
 },
 "nbformat": 4,
 "nbformat_minor": 2
}
