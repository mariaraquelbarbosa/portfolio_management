{
 "cells": [
  {
   "cell_type": "markdown",
   "metadata": {},
   "source": [
    "# Portfolio Optmization\n",
    "References:\n",
    "- https://youtu.be/9GA2WlYFeBU\n",
    "- https://ryanoconnellfinance.com/python-portfolio-optimization/"
   ]
  },
  {
   "cell_type": "markdown",
   "metadata": {},
   "source": [
    "## Import required libraries"
   ]
  },
  {
   "cell_type": "code",
   "execution_count": 3,
   "metadata": {},
   "outputs": [],
   "source": [
    "import yfinance as yf\n",
    "import pandas as pd\n",
    "import numpy as np\n",
    "from datetime import datetime, timedelta\n",
    "from scipy.optimize import minimize"
   ]
  },
  {
   "cell_type": "markdown",
   "metadata": {},
   "source": [
    "## Section 1: Define Tickers and Time Range"
   ]
  },
  {
   "cell_type": "code",
   "execution_count": 4,
   "metadata": {},
   "outputs": [],
   "source": [
    "# Define the list od tickers\n",
    "tickers = ['SPY','BND','GLD','QQQ','VTI']"
   ]
  },
  {
   "cell_type": "markdown",
   "metadata": {},
   "source": [
    "- SPY is the most popular S&P 500 index\n",
    "- BND is one of the most popular bond index\n",
    "- GLD is one of the most popular commodity based index\n",
    "- QQQ for the biggest NASDAQ ticker\n",
    "- VTI provides a broad exposure to the U.S. equity market"
   ]
  },
  {
   "cell_type": "code",
   "execution_count": 5,
   "metadata": {},
   "outputs": [
    {
     "data": {
      "text/plain": [
       "datetime.datetime(2024, 3, 2, 0, 16, 20, 378927)"
      ]
     },
     "execution_count": 5,
     "metadata": {},
     "output_type": "execute_result"
    }
   ],
   "source": [
    "# Set the end date to today\n",
    "end_date = datetime.today()\n",
    "end_date"
   ]
  },
  {
   "cell_type": "code",
   "execution_count": 6,
   "metadata": {},
   "outputs": [
    {
     "data": {
      "text/plain": [
       "datetime.datetime(2019, 3, 4, 0, 16, 20, 378927)"
      ]
     },
     "execution_count": 6,
     "metadata": {},
     "output_type": "execute_result"
    }
   ],
   "source": [
    "# Set the start date to 5 years ago\n",
    "start_date = end_date - timedelta(days = 5*365)\n",
    "start_date"
   ]
  },
  {
   "cell_type": "markdown",
   "metadata": {},
   "source": [
    "## Section 2: Download Adjusted Close Prices"
   ]
  },
  {
   "cell_type": "code",
   "execution_count": 7,
   "metadata": {},
   "outputs": [],
   "source": [
    "# Create an empty DataFrame to store the adjusted close prices\n",
    "adj_close_df = pd.DataFrame()"
   ]
  },
  {
   "cell_type": "markdown",
   "metadata": {},
   "source": [
    "The adjusted close price is more accurate because it takes dividends, stock splits, and new stock offerings into account (the close price would underweight a portfolio that pays more dividends, for example)."
   ]
  },
  {
   "cell_type": "code",
   "execution_count": 9,
   "metadata": {},
   "outputs": [],
   "source": [
    "# Download the close prices for each ticker\n",
    "for ticker in tickers:\n",
    "    data = yf.download(ticker, start = start_date,end = end_date, progress = False)\n",
    "    adj_close_df[ticker] = data['Adj Close']"
   ]
  },
  {
   "cell_type": "code",
   "execution_count": 11,
   "metadata": {},
   "outputs": [
    {
     "data": {
      "text/html": [
       "<div>\n",
       "<style scoped>\n",
       "    .dataframe tbody tr th:only-of-type {\n",
       "        vertical-align: middle;\n",
       "    }\n",
       "\n",
       "    .dataframe tbody tr th {\n",
       "        vertical-align: top;\n",
       "    }\n",
       "\n",
       "    .dataframe thead th {\n",
       "        text-align: right;\n",
       "    }\n",
       "</style>\n",
       "<table border=\"1\" class=\"dataframe\">\n",
       "  <thead>\n",
       "    <tr style=\"text-align: right;\">\n",
       "      <th></th>\n",
       "      <th>SPY</th>\n",
       "      <th>BND</th>\n",
       "      <th>GLD</th>\n",
       "      <th>QQQ</th>\n",
       "      <th>VTI</th>\n",
       "    </tr>\n",
       "    <tr>\n",
       "      <th>Date</th>\n",
       "      <th></th>\n",
       "      <th></th>\n",
       "      <th></th>\n",
       "      <th></th>\n",
       "      <th></th>\n",
       "    </tr>\n",
       "  </thead>\n",
       "  <tbody>\n",
       "    <tr>\n",
       "      <th>2019-03-04</th>\n",
       "      <td>257.485626</td>\n",
       "      <td>70.053101</td>\n",
       "      <td>121.559998</td>\n",
       "      <td>168.771881</td>\n",
       "      <td>132.465271</td>\n",
       "    </tr>\n",
       "    <tr>\n",
       "      <th>2019-03-05</th>\n",
       "      <td>257.135406</td>\n",
       "      <td>70.105919</td>\n",
       "      <td>121.720001</td>\n",
       "      <td>168.897629</td>\n",
       "      <td>132.216476</td>\n",
       "    </tr>\n",
       "    <tr>\n",
       "      <th>2019-03-06</th>\n",
       "      <td>255.577957</td>\n",
       "      <td>70.194038</td>\n",
       "      <td>121.610001</td>\n",
       "      <td>167.939682</td>\n",
       "      <td>131.212051</td>\n",
       "    </tr>\n",
       "    <tr>\n",
       "      <th>2019-03-07</th>\n",
       "      <td>253.439987</td>\n",
       "      <td>70.396614</td>\n",
       "      <td>121.510002</td>\n",
       "      <td>165.878677</td>\n",
       "      <td>130.189194</td>\n",
       "    </tr>\n",
       "    <tr>\n",
       "      <th>2019-03-08</th>\n",
       "      <td>252.933075</td>\n",
       "      <td>70.484711</td>\n",
       "      <td>122.839996</td>\n",
       "      <td>165.627106</td>\n",
       "      <td>129.921997</td>\n",
       "    </tr>\n",
       "  </tbody>\n",
       "</table>\n",
       "</div>"
      ],
      "text/plain": [
       "                   SPY        BND         GLD         QQQ         VTI\n",
       "Date                                                                 \n",
       "2019-03-04  257.485626  70.053101  121.559998  168.771881  132.465271\n",
       "2019-03-05  257.135406  70.105919  121.720001  168.897629  132.216476\n",
       "2019-03-06  255.577957  70.194038  121.610001  167.939682  131.212051\n",
       "2019-03-07  253.439987  70.396614  121.510002  165.878677  130.189194\n",
       "2019-03-08  252.933075  70.484711  122.839996  165.627106  129.921997"
      ]
     },
     "execution_count": 11,
     "metadata": {},
     "output_type": "execute_result"
    }
   ],
   "source": [
    "# Show the df\n",
    "adj_close_df.head()"
   ]
  },
  {
   "cell_type": "markdown",
   "metadata": {},
   "source": [
    "## Section 3: Calculate Lognormal Returns"
   ]
  },
  {
   "cell_type": "markdown",
   "metadata": {},
   "source": [
    "Lognormal returns are additive over time, making them useful for certain types of financial modeling and analysis. So, if you have a series of lognormal returns for consecutive periods, you can simply sum them up to get the total return over that entire period, making it easier to analyze the cumulative effect of returns over time."
   ]
  },
  {
   "cell_type": "code",
   "execution_count": 12,
   "metadata": {},
   "outputs": [],
   "source": [
    "# Calculate the lognormal returns for each ticker\n",
    "log_returns = np.log(adj_close_df / adj_close_df.shift(1))"
   ]
  },
  {
   "cell_type": "code",
   "execution_count": 13,
   "metadata": {},
   "outputs": [],
   "source": [
    "# Drop any missing values\n",
    "log_returns = log_returns.dropna()"
   ]
  },
  {
   "cell_type": "code",
   "execution_count": 32,
   "metadata": {},
   "outputs": [
    {
     "data": {
      "text/html": [
       "<div>\n",
       "<style scoped>\n",
       "    .dataframe tbody tr th:only-of-type {\n",
       "        vertical-align: middle;\n",
       "    }\n",
       "\n",
       "    .dataframe tbody tr th {\n",
       "        vertical-align: top;\n",
       "    }\n",
       "\n",
       "    .dataframe thead th {\n",
       "        text-align: right;\n",
       "    }\n",
       "</style>\n",
       "<table border=\"1\" class=\"dataframe\">\n",
       "  <thead>\n",
       "    <tr style=\"text-align: right;\">\n",
       "      <th></th>\n",
       "      <th>SPY</th>\n",
       "      <th>BND</th>\n",
       "      <th>GLD</th>\n",
       "      <th>QQQ</th>\n",
       "      <th>VTI</th>\n",
       "    </tr>\n",
       "    <tr>\n",
       "      <th>Date</th>\n",
       "      <th></th>\n",
       "      <th></th>\n",
       "      <th></th>\n",
       "      <th></th>\n",
       "      <th></th>\n",
       "    </tr>\n",
       "  </thead>\n",
       "  <tbody>\n",
       "    <tr>\n",
       "      <th>2019-03-05</th>\n",
       "      <td>-0.001361</td>\n",
       "      <td>0.000754</td>\n",
       "      <td>0.001315</td>\n",
       "      <td>0.000745</td>\n",
       "      <td>-0.001880</td>\n",
       "    </tr>\n",
       "    <tr>\n",
       "      <th>2019-03-06</th>\n",
       "      <td>-0.006075</td>\n",
       "      <td>0.001256</td>\n",
       "      <td>-0.000904</td>\n",
       "      <td>-0.005688</td>\n",
       "      <td>-0.007626</td>\n",
       "    </tr>\n",
       "    <tr>\n",
       "      <th>2019-03-07</th>\n",
       "      <td>-0.008400</td>\n",
       "      <td>0.002882</td>\n",
       "      <td>-0.000823</td>\n",
       "      <td>-0.012348</td>\n",
       "      <td>-0.007826</td>\n",
       "    </tr>\n",
       "    <tr>\n",
       "      <th>2019-03-08</th>\n",
       "      <td>-0.002002</td>\n",
       "      <td>0.001251</td>\n",
       "      <td>0.010886</td>\n",
       "      <td>-0.001518</td>\n",
       "      <td>-0.002054</td>\n",
       "    </tr>\n",
       "    <tr>\n",
       "      <th>2019-03-11</th>\n",
       "      <td>0.014397</td>\n",
       "      <td>-0.000500</td>\n",
       "      <td>-0.004896</td>\n",
       "      <td>0.020585</td>\n",
       "      <td>0.014575</td>\n",
       "    </tr>\n",
       "  </tbody>\n",
       "</table>\n",
       "</div>"
      ],
      "text/plain": [
       "                 SPY       BND       GLD       QQQ       VTI\n",
       "Date                                                        \n",
       "2019-03-05 -0.001361  0.000754  0.001315  0.000745 -0.001880\n",
       "2019-03-06 -0.006075  0.001256 -0.000904 -0.005688 -0.007626\n",
       "2019-03-07 -0.008400  0.002882 -0.000823 -0.012348 -0.007826\n",
       "2019-03-08 -0.002002  0.001251  0.010886 -0.001518 -0.002054\n",
       "2019-03-11  0.014397 -0.000500 -0.004896  0.020585  0.014575"
      ]
     },
     "execution_count": 32,
     "metadata": {},
     "output_type": "execute_result"
    }
   ],
   "source": [
    "log_returns.head()"
   ]
  },
  {
   "cell_type": "markdown",
   "metadata": {},
   "source": [
    "## Section 4: Calculate Covariance Matrix"
   ]
  },
  {
   "cell_type": "code",
   "execution_count": 14,
   "metadata": {},
   "outputs": [
    {
     "data": {
      "text/html": [
       "<div>\n",
       "<style scoped>\n",
       "    .dataframe tbody tr th:only-of-type {\n",
       "        vertical-align: middle;\n",
       "    }\n",
       "\n",
       "    .dataframe tbody tr th {\n",
       "        vertical-align: top;\n",
       "    }\n",
       "\n",
       "    .dataframe thead th {\n",
       "        text-align: right;\n",
       "    }\n",
       "</style>\n",
       "<table border=\"1\" class=\"dataframe\">\n",
       "  <thead>\n",
       "    <tr style=\"text-align: right;\">\n",
       "      <th></th>\n",
       "      <th>SPY</th>\n",
       "      <th>BND</th>\n",
       "      <th>GLD</th>\n",
       "      <th>QQQ</th>\n",
       "      <th>VTI</th>\n",
       "    </tr>\n",
       "  </thead>\n",
       "  <tbody>\n",
       "    <tr>\n",
       "      <th>SPY</th>\n",
       "      <td>0.044190</td>\n",
       "      <td>0.002758</td>\n",
       "      <td>0.003623</td>\n",
       "      <td>0.049769</td>\n",
       "      <td>0.045253</td>\n",
       "    </tr>\n",
       "    <tr>\n",
       "      <th>BND</th>\n",
       "      <td>0.002758</td>\n",
       "      <td>0.004673</td>\n",
       "      <td>0.003898</td>\n",
       "      <td>0.003373</td>\n",
       "      <td>0.002938</td>\n",
       "    </tr>\n",
       "    <tr>\n",
       "      <th>GLD</th>\n",
       "      <td>0.003623</td>\n",
       "      <td>0.003898</td>\n",
       "      <td>0.022345</td>\n",
       "      <td>0.004899</td>\n",
       "      <td>0.003803</td>\n",
       "    </tr>\n",
       "    <tr>\n",
       "      <th>QQQ</th>\n",
       "      <td>0.049769</td>\n",
       "      <td>0.003373</td>\n",
       "      <td>0.004899</td>\n",
       "      <td>0.064604</td>\n",
       "      <td>0.050918</td>\n",
       "    </tr>\n",
       "    <tr>\n",
       "      <th>VTI</th>\n",
       "      <td>0.045253</td>\n",
       "      <td>0.002938</td>\n",
       "      <td>0.003803</td>\n",
       "      <td>0.050918</td>\n",
       "      <td>0.046717</td>\n",
       "    </tr>\n",
       "  </tbody>\n",
       "</table>\n",
       "</div>"
      ],
      "text/plain": [
       "          SPY       BND       GLD       QQQ       VTI\n",
       "SPY  0.044190  0.002758  0.003623  0.049769  0.045253\n",
       "BND  0.002758  0.004673  0.003898  0.003373  0.002938\n",
       "GLD  0.003623  0.003898  0.022345  0.004899  0.003803\n",
       "QQQ  0.049769  0.003373  0.004899  0.064604  0.050918\n",
       "VTI  0.045253  0.002938  0.003803  0.050918  0.046717"
      ]
     },
     "execution_count": 14,
     "metadata": {},
     "output_type": "execute_result"
    }
   ],
   "source": [
    "# Calculate the covariance matrix using the annualized log returns\n",
    "cov_matrix = log_returns.cov() * 252\n",
    "cov_matrix"
   ]
  },
  {
   "cell_type": "markdown",
   "metadata": {},
   "source": [
    "## Section 5: Define Portfolio Performance Metrics"
   ]
  },
  {
   "cell_type": "code",
   "execution_count": 15,
   "metadata": {},
   "outputs": [],
   "source": [
    "# Calculate the portfolio standard deviation\n",
    "def standard_deviation(weights, cov_matrix):\n",
    "    variance = weights.T @ cov_matrix @ weights\n",
    "    return np.sqrt(variance)\n",
    "# @ to multiply matrix"
   ]
  },
  {
   "cell_type": "markdown",
   "metadata": {},
   "source": [
    "The above line of code calculates the portfolio variance, which is a measure of the risk associated with a portfolio of assets. It represents the combined volatility in the portfolio, taking into account their individual volatilities and correlations with each other."
   ]
  },
  {
   "cell_type": "code",
   "execution_count": 16,
   "metadata": {},
   "outputs": [],
   "source": [
    "# Calculate the expected return\n",
    "def expected_return(weights, log_returns):\n",
    "    return np.sum(log_returns.mean() * weights) * 252"
   ]
  },
  {
   "cell_type": "markdown",
   "metadata": {},
   "source": [
    "(*) Key Assumption: expected returns are based on historical returns"
   ]
  },
  {
   "cell_type": "code",
   "execution_count": 17,
   "metadata": {},
   "outputs": [],
   "source": [
    "# Calculate the Sharpe Ratio\n",
    "def sharpe_ratio(weights, log_returns, cov_matrix, risk_free_rate):\n",
    "    return (expected_return(weights, log_returns) - risk_free_rate) / standard_deviation(weights, cov_matrix)"
   ]
  },
  {
   "cell_type": "markdown",
   "metadata": {},
   "source": [
    "Sharpe Ratio = (Portfolio Return - Risk Free Rate) / St. Deviation"
   ]
  },
  {
   "cell_type": "markdown",
   "metadata": {},
   "source": [
    "## Section 6: Portfolio Optimization"
   ]
  },
  {
   "cell_type": "markdown",
   "metadata": {},
   "source": [
    "### Set the risk-free rate"
   ]
  },
  {
   "cell_type": "markdown",
   "metadata": {},
   "source": [
    "Request FRED API key: https://fredaccount.stlouisfed.org/apikey"
   ]
  },
  {
   "cell_type": "code",
   "execution_count": 20,
   "metadata": {},
   "outputs": [],
   "source": [
    "# Import\n",
    "from fredapi import Fred"
   ]
  },
  {
   "cell_type": "code",
   "execution_count": 21,
   "metadata": {},
   "outputs": [],
   "source": [
    "# Replace 'your_api_key' with your actual FRED API key\n",
    "fred = Fred(api_key = 'your_api_key')\n",
    "ten_year_treasury_rate = fred.get_series_latest_release('GS10') / 100"
   ]
  },
  {
   "cell_type": "code",
   "execution_count": 22,
   "metadata": {},
   "outputs": [
    {
     "data": {
      "text/plain": [
       "0.0421"
      ]
     },
     "execution_count": 22,
     "metadata": {},
     "output_type": "execute_result"
    }
   ],
   "source": [
    "# Set the risk-free rate\n",
    "risk_free_rate = ten_year_treasury_rate.iloc[-1]\n",
    "risk_free_rate"
   ]
  },
  {
   "cell_type": "markdown",
   "metadata": {},
   "source": [
    "### Define the function to minimize (negate Sharpe Ration)"
   ]
  },
  {
   "cell_type": "code",
   "execution_count": 23,
   "metadata": {},
   "outputs": [],
   "source": [
    "# In the case of the scipy.optimize.minimize() function, there is no direct method to find the maximum value\n",
    "def neg_sharpe_ratio(weights, log_returns, cov_matrix, risk_free_rate):\n",
    "    return -sharpe_ratio(weights, log_returns, cov_matrix, risk_free_rate)"
   ]
  },
  {
   "cell_type": "markdown",
   "metadata": {},
   "source": [
    "### Set the constraints and bounds"
   ]
  },
  {
   "cell_type": "markdown",
   "metadata": {},
   "source": [
    "Constraints are conditions that must be met by the solution during the optimization process. In this case, the constraint is that the sum of all portfolio weights must by equal to 1. The constraints variable is a dictionary of two keys: 'type' and 'fun'. 'Type' is set to 'eq', which means 'equality constraints'. And 'fun' is assigned to the function 'check_sum', which checks if the sum of the portfolio weights is equal to 1.\n",
    "\n",
    "Bonds are the limits placed on the variables during the optimization process. In this case, the variables are the portfolio weights, and each weight should be between 0 and 0.5 (no negative values --> we cannot go short or sell on any of these assets; do not depend too much on outperformed assets, prioritize diversification)."
   ]
  },
  {
   "cell_type": "code",
   "execution_count": 24,
   "metadata": {},
   "outputs": [],
   "source": [
    "constraints = {'type': 'eq', 'fun': lambda weights: np.sum(weights) - 1}\n",
    "bounds = [(0, 0.4) for _ in range(len(tickers))]"
   ]
  },
  {
   "cell_type": "markdown",
   "metadata": {},
   "source": [
    "### Set the initial weights"
   ]
  },
  {
   "cell_type": "code",
   "execution_count": 25,
   "metadata": {},
   "outputs": [],
   "source": [
    "initial_weights = np.array([1/len(tickers)]*len(tickers))"
   ]
  },
  {
   "cell_type": "markdown",
   "metadata": {},
   "source": [
    "### Optimize the weights to maximize the Sharpe Ratio"
   ]
  },
  {
   "cell_type": "markdown",
   "metadata": {},
   "source": [
    "'SLSQP' stands for Sequential Least Square Quadratic Programming, which is a numerical optimization technique suitable for solving optimization problems with constraints."
   ]
  },
  {
   "cell_type": "code",
   "execution_count": 26,
   "metadata": {},
   "outputs": [],
   "source": [
    "optimized_results = minimize(neg_sharpe_ratio, initial_weights, args=(log_returns, cov_matrix, risk_free_rate), method='SLSQP', constraints=constraints, bounds=bounds)"
   ]
  },
  {
   "cell_type": "code",
   "execution_count": 27,
   "metadata": {},
   "outputs": [],
   "source": [
    "optimal_weights = optimized_results.x"
   ]
  },
  {
   "cell_type": "markdown",
   "metadata": {},
   "source": [
    "## Section 7: Analyze the Optimal Portfolio"
   ]
  },
  {
   "cell_type": "markdown",
   "metadata": {},
   "source": [
    "We calculate the expected annual return, expected volatility, and Sharpe ratio for the optimal portfolio."
   ]
  },
  {
   "cell_type": "markdown",
   "metadata": {},
   "source": [
    "### Display analytics of the optimal portfolio"
   ]
  },
  {
   "cell_type": "code",
   "execution_count": 28,
   "metadata": {},
   "outputs": [
    {
     "name": "stdout",
     "output_type": "stream",
     "text": [
      "Optimal Weights:\n",
      "SPY: 0.2000\n",
      "BND: 0.0000\n",
      "GLD: 0.4000\n",
      "QQQ: 0.4000\n",
      "VTI: 0.0000\n",
      "Expected Annual Return: 0.1424\n",
      "Expected Volatility: 0.1606\n",
      "Sharpe Ratio: 0.6245\n"
     ]
    }
   ],
   "source": [
    "print(\"Optimal Weights:\")\n",
    "for ticker, weight in zip(tickers, optimal_weights):\n",
    "    print(f\"{ticker}: {weight:.4f}\")\n",
    "\n",
    "optimal_portfolio_return = expected_return(optimal_weights, log_returns)\n",
    "optimal_portfolio_volatility = standard_deviation(optimal_weights, cov_matrix)\n",
    "optimal_sharpe_ratio = sharpe_ratio(optimal_weights, log_returns, cov_matrix, risk_free_rate)\n",
    "\n",
    "print(f\"Expected Annual Return: {optimal_portfolio_return:.4f}\")\n",
    "print(f\"Expected Volatility: {optimal_portfolio_volatility:.4f}\")\n",
    "print(f\"Sharpe Ratio: {optimal_sharpe_ratio:.4f}\")"
   ]
  },
  {
   "cell_type": "markdown",
   "metadata": {},
   "source": [
    "### Display the Final Portfolio in a Plot"
   ]
  },
  {
   "cell_type": "code",
   "execution_count": 30,
   "metadata": {},
   "outputs": [
    {
     "data": {
      "image/png": "[encoded data removed]",
      "text/plain": [
       "<Figure size 1300x600 with 1 Axes>"
      ]
     },
     "metadata": {},
     "output_type": "display_data"
    }
   ],
   "source": [
    "# Import\n",
    "import matplotlib.pyplot as plt\n",
    "plt.style.use('https://github.com/dhaitz/matplotlib-stylesheets/raw/master/pitayasmoothie-dark.mplstyle')\n",
    "\n",
    "# Create a bar chart of the optimal weights\n",
    "plt.figure(figsize=(13, 6))\n",
    "plt.bar(tickers, optimal_weights)\n",
    "\n",
    "# Add labels and title\n",
    "plt.xlabel('Assets')\n",
    "plt.ylabel('Optimal Weights')\n",
    "plt.title('Optimal Portfolio Weights')\n",
    "\n",
    "# Show the plot\n",
    "plt.show()"
   ]
  }
 ],
 "metadata": {
  "kernelspec": {
   "display_name": "Python 3",
   "language": "python",
   "name": "python3"
  },
  "language_info": {
   "codemirror_mode": {
    "name": "ipython",
    "version": 3
   },
   "file_extension": ".py",
   "mimetype": "text/x-python",
   "name": "python",
   "nbconvert_exporter": "python",
   "pygments_lexer": "ipython3",
   "version": "3.12.2"
  }
 },
 "nbformat": 4,
 "nbformat_minor": 2
}
